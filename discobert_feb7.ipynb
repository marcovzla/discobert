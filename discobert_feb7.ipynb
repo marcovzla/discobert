{
  "nbformat": 4,
  "nbformat_minor": 0,
  "metadata": {
    "colab": {
      "name": "discobert_feb7.ipynb",
      "provenance": [],
      "collapsed_sections": [],
      "authorship_tag": "ABX9TyOt1A2xEmuPTahuvcLp1bRU",
      "include_colab_link": true
    },
    "kernelspec": {
      "name": "python3",
      "display_name": "Python 3"
    },
    "accelerator": "GPU",
    "widgets": {
      "application/vnd.jupyter.widget-state+json": {
        "fdfdc9fbcc1342f4a5bbe6f6a268065d": {
          "model_module": "@jupyter-widgets/controls",
          "model_name": "HBoxModel",
          "state": {
            "_view_name": "HBoxView",
            "_dom_classes": [],
            "_model_name": "HBoxModel",
            "_view_module": "@jupyter-widgets/controls",
            "_model_module_version": "1.5.0",
            "_view_count": null,
            "_view_module_version": "1.5.0",
            "box_style": "",
            "layout": "IPY_MODEL_72c33b66a55b4309a3a9dc666018e940",
            "_model_module": "@jupyter-widgets/controls",
            "children": [
              "IPY_MODEL_508df7dd9e6a4046a32bcfa203a46799",
              "IPY_MODEL_4d11a70ced96433aacb63817942ce8e6"
            ]
          }
        },
        "f932a0d319ef436e868b2fb62bb23117": {
          "model_module": "@jupyter-widgets/controls",
          "model_name": "HBoxModel",
          "state": {
            "_view_name": "HBoxView",
            "_dom_classes": [],
            "_model_name": "HBoxModel",
            "_view_module": "@jupyter-widgets/controls",
            "_model_module_version": "1.5.0",
            "_view_count": null,
            "_view_module_version": "1.5.0",
            "box_style": "",
            "layout": "IPY_MODEL_92cb8b60bc7447589aa1d16722e1632f",
            "_model_module": "@jupyter-widgets/controls",
            "children": [
              "IPY_MODEL_17adf5148af549f39c5688feebeb83e6",
              "IPY_MODEL_cee0509d33244562abf0f28fe64ed4a0"
            ]
          }
        },
        "714374fece3b46df89f222905b94ba90": {
          "model_module": "@jupyter-widgets/controls",
          "model_name": "HBoxModel",
          "state": {
            "_view_name": "HBoxView",
            "_dom_classes": [],
            "_model_name": "HBoxModel",
            "_view_module": "@jupyter-widgets/controls",
            "_model_module_version": "1.5.0",
            "_view_count": null,
            "_view_module_version": "1.5.0",
            "box_style": "",
            "layout": "IPY_MODEL_2dcc308e7a98418bb093d99d0b460bc5",
            "_model_module": "@jupyter-widgets/controls",
            "children": [
              "IPY_MODEL_43f0d78b4bdb4c10b54f66ef30ca77f1",
              "IPY_MODEL_af369945e9a141eea515fc6d10ae6b22"
            ]
          }
        },
        "5e8dfd6fb1c241458a353dec77fc87ab": {
          "model_module": "@jupyter-widgets/controls",
          "model_name": "HBoxModel",
          "state": {
            "_view_name": "HBoxView",
            "_dom_classes": [],
            "_model_name": "HBoxModel",
            "_view_module": "@jupyter-widgets/controls",
            "_model_module_version": "1.5.0",
            "_view_count": null,
            "_view_module_version": "1.5.0",
            "box_style": "",
            "layout": "IPY_MODEL_1f582c0f434a4b9bb933a657b46d3333",
            "_model_module": "@jupyter-widgets/controls",
            "children": [
              "IPY_MODEL_b31168232332490eba14f50d31130fb7",
              "IPY_MODEL_6cec82c3d64045b883f9993a10462407"
            ]
          }
        },
        "957d734d08674c2faafa579ed86aced5": {
          "model_module": "@jupyter-widgets/controls",
          "model_name": "HBoxModel",
          "state": {
            "_view_name": "HBoxView",
            "_dom_classes": [],
            "_model_name": "HBoxModel",
            "_view_module": "@jupyter-widgets/controls",
            "_model_module_version": "1.5.0",
            "_view_count": null,
            "_view_module_version": "1.5.0",
            "box_style": "",
            "layout": "IPY_MODEL_8fed6b5a85cd45019a886227980e4c51",
            "_model_module": "@jupyter-widgets/controls",
            "children": [
              "IPY_MODEL_54b08c91039d4fdd811e7d18ea39f027",
              "IPY_MODEL_59d45c5af26f468bba8aee626036e93a"
            ]
          }
        },
        "6cc3c20f072749d98465e247910174e1": {
          "model_module": "@jupyter-widgets/controls",
          "model_name": "HBoxModel",
          "state": {
            "_view_name": "HBoxView",
            "_dom_classes": [],
            "_model_name": "HBoxModel",
            "_view_module": "@jupyter-widgets/controls",
            "_model_module_version": "1.5.0",
            "_view_count": null,
            "_view_module_version": "1.5.0",
            "box_style": "",
            "layout": "IPY_MODEL_0b5cc4f2ebc54253942f8dd6ef061079",
            "_model_module": "@jupyter-widgets/controls",
            "children": [
              "IPY_MODEL_6d048dfcab6f4cb0843f0a00e00f68b9",
              "IPY_MODEL_ba7ce5f195de40cd8d92f5fffd2a9030"
            ]
          }
        },
        "0475bbc7207f46cb88b9ca1422d28ced": {
          "model_module": "@jupyter-widgets/controls",
          "model_name": "HBoxModel",
          "state": {
            "_view_name": "HBoxView",
            "_dom_classes": [],
            "_model_name": "HBoxModel",
            "_view_module": "@jupyter-widgets/controls",
            "_model_module_version": "1.5.0",
            "_view_count": null,
            "_view_module_version": "1.5.0",
            "box_style": "",
            "layout": "IPY_MODEL_f791f7c87ae643318d3db7f5342a2bfc",
            "_model_module": "@jupyter-widgets/controls",
            "children": [
              "IPY_MODEL_78f0bba2aea745e3a34398b8ff33237c",
              "IPY_MODEL_981f02f3b9814bf5872e195ced2f8937"
            ]
          }
        },
        "831a2a623a3b4de59db94c71ed83a462": {
          "model_module": "@jupyter-widgets/controls",
          "model_name": "HBoxModel",
          "state": {
            "_view_name": "HBoxView",
            "_dom_classes": [],
            "_model_name": "HBoxModel",
            "_view_module": "@jupyter-widgets/controls",
            "_model_module_version": "1.5.0",
            "_view_count": null,
            "_view_module_version": "1.5.0",
            "box_style": "",
            "layout": "IPY_MODEL_7f51e79525024b14a8cecdb29a1ae28b",
            "_model_module": "@jupyter-widgets/controls",
            "children": [
              "IPY_MODEL_a0fe0906db6446549a67bc1dadaf1afb",
              "IPY_MODEL_57495f9beac8475eb992b5ebc6edc732"
            ]
          }
        },
        "d9db672e5bb6456b9ae26e55445a9e3e": {
          "model_module": "@jupyter-widgets/controls",
          "model_name": "HBoxModel",
          "state": {
            "_view_name": "HBoxView",
            "_dom_classes": [],
            "_model_name": "HBoxModel",
            "_view_module": "@jupyter-widgets/controls",
            "_model_module_version": "1.5.0",
            "_view_count": null,
            "_view_module_version": "1.5.0",
            "box_style": "",
            "layout": "IPY_MODEL_ac17a52547a94804b2d1541080866af8",
            "_model_module": "@jupyter-widgets/controls",
            "children": [
              "IPY_MODEL_48833ba56fc04d09a6b358b242c42f81",
              "IPY_MODEL_f6f52c34714944318ef99654a6ee6a55"
            ]
          }
        },
        "dcf98267ffbe41f7b99e0d578a682d20": {
          "model_module": "@jupyter-widgets/controls",
          "model_name": "HBoxModel",
          "state": {
            "_view_name": "HBoxView",
            "_dom_classes": [],
            "_model_name": "HBoxModel",
            "_view_module": "@jupyter-widgets/controls",
            "_model_module_version": "1.5.0",
            "_view_count": null,
            "_view_module_version": "1.5.0",
            "box_style": "",
            "layout": "IPY_MODEL_d2ee61313b014714b8eb4cf5e0617a3f",
            "_model_module": "@jupyter-widgets/controls",
            "children": [
              "IPY_MODEL_f4c85cee48e24735935ee5f1f8540f10",
              "IPY_MODEL_e2018c456b57473295a9f740d404bead"
            ]
          }
        },
        "1acafb9dcb304508b792f9611e1c0657": {
          "model_module": "@jupyter-widgets/controls",
          "model_name": "HBoxModel",
          "state": {
            "_view_name": "HBoxView",
            "_dom_classes": [],
            "_model_name": "HBoxModel",
            "_view_module": "@jupyter-widgets/controls",
            "_model_module_version": "1.5.0",
            "_view_count": null,
            "_view_module_version": "1.5.0",
            "box_style": "",
            "layout": "IPY_MODEL_0ac01aa613ab433fb94625f5b824d414",
            "_model_module": "@jupyter-widgets/controls",
            "children": [
              "IPY_MODEL_2ba60d152dba497cb952f81481410a06",
              "IPY_MODEL_b34725f7f638420683226d496c020736"
            ]
          }
        },
        "6c1385094aac4f1a9a96d7d5926af51c": {
          "model_module": "@jupyter-widgets/controls",
          "model_name": "HBoxModel",
          "state": {
            "_view_name": "HBoxView",
            "_dom_classes": [],
            "_model_name": "HBoxModel",
            "_view_module": "@jupyter-widgets/controls",
            "_model_module_version": "1.5.0",
            "_view_count": null,
            "_view_module_version": "1.5.0",
            "box_style": "",
            "layout": "IPY_MODEL_5f8f0fa685a24b01afcaf6e4b5c14a9c",
            "_model_module": "@jupyter-widgets/controls",
            "children": [
              "IPY_MODEL_97d6ac76251f4828aa7795e6617a8f8a",
              "IPY_MODEL_8338e20d17cd44109d8c94be06d93975"
            ]
          }
        },
        "fb835e3770d14c0e8c7e179446d0414e": {
          "model_module": "@jupyter-widgets/controls",
          "model_name": "HBoxModel",
          "state": {
            "_view_name": "HBoxView",
            "_dom_classes": [],
            "_model_name": "HBoxModel",
            "_view_module": "@jupyter-widgets/controls",
            "_model_module_version": "1.5.0",
            "_view_count": null,
            "_view_module_version": "1.5.0",
            "box_style": "",
            "layout": "IPY_MODEL_db45ac4d409b4496b99f3e6e9fff2872",
            "_model_module": "@jupyter-widgets/controls",
            "children": [
              "IPY_MODEL_34cb09e3c7df4ee19ba680c829a24884",
              "IPY_MODEL_642ed3f403c040eabd1288de14037960"
            ]
          }
        },
        "c96bca2a058c40469463f6822462a1e8": {
          "model_module": "@jupyter-widgets/controls",
          "model_name": "HBoxModel",
          "state": {
            "_view_name": "HBoxView",
            "_dom_classes": [],
            "_model_name": "HBoxModel",
            "_view_module": "@jupyter-widgets/controls",
            "_model_module_version": "1.5.0",
            "_view_count": null,
            "_view_module_version": "1.5.0",
            "box_style": "",
            "layout": "IPY_MODEL_cd27fbd724ad4327b99964e0d49c906d",
            "_model_module": "@jupyter-widgets/controls",
            "children": [
              "IPY_MODEL_5c99c7ba80e64b538223ebdb39d08602",
              "IPY_MODEL_735165383c1d4275beaf30bd94045ae6"
            ]
          }
        },
        "a40187216d9749eda7499970e1d0ba1c": {
          "model_module": "@jupyter-widgets/controls",
          "model_name": "HBoxModel",
          "state": {
            "_view_name": "HBoxView",
            "_dom_classes": [],
            "_model_name": "HBoxModel",
            "_view_module": "@jupyter-widgets/controls",
            "_model_module_version": "1.5.0",
            "_view_count": null,
            "_view_module_version": "1.5.0",
            "box_style": "",
            "layout": "IPY_MODEL_354ee270d6094a4b906cda71c3f30062",
            "_model_module": "@jupyter-widgets/controls",
            "children": [
              "IPY_MODEL_01c1ba8bac0f464eb19234a8a435e36c",
              "IPY_MODEL_1759dc39b2ea4b7db31ec71f4dda27f4"
            ]
          }
        },
        "5a37e6b5a48d42d7913fa5abbd65d443": {
          "model_module": "@jupyter-widgets/controls",
          "model_name": "HBoxModel",
          "state": {
            "_view_name": "HBoxView",
            "_dom_classes": [],
            "_model_name": "HBoxModel",
            "_view_module": "@jupyter-widgets/controls",
            "_model_module_version": "1.5.0",
            "_view_count": null,
            "_view_module_version": "1.5.0",
            "box_style": "",
            "layout": "IPY_MODEL_ecb72deb1dc5423fad2271c9eab3de09",
            "_model_module": "@jupyter-widgets/controls",
            "children": [
              "IPY_MODEL_b481a132e1ae465bbbf46ccd57d4ce8a",
              "IPY_MODEL_1e11afaf07ca4987928f1786519d4290"
            ]
          }
        },
        "6d403857aac242fb9b2f243dbad06f89": {
          "model_module": "@jupyter-widgets/controls",
          "model_name": "HBoxModel",
          "state": {
            "_view_name": "HBoxView",
            "_dom_classes": [],
            "_model_name": "HBoxModel",
            "_view_module": "@jupyter-widgets/controls",
            "_model_module_version": "1.5.0",
            "_view_count": null,
            "_view_module_version": "1.5.0",
            "box_style": "",
            "layout": "IPY_MODEL_bb0c3e4112c6405ca5810233e8dd5efe",
            "_model_module": "@jupyter-widgets/controls",
            "children": [
              "IPY_MODEL_582d731a9d51428f8314c28d6d711f06",
              "IPY_MODEL_eab9b6281cb84562a05a6c7bf005d544"
            ]
          }
        }
      }
    }
  },
  "cells": [
    {
      "cell_type": "markdown",
      "metadata": {
        "id": "view-in-github",
        "colab_type": "text"
      },
      "source": [
        "<a href=\"https://colab.research.google.com/github/marcovzla/discobert/blob/master/discobert_feb7.ipynb\" target=\"_parent\"><img src=\"https://colab.research.google.com/assets/colab-badge.svg\" alt=\"Open In Colab\"/></a>"
      ]
    },
    {
      "cell_type": "code",
      "metadata": {
        "id": "7eCLaFIys0lQ",
        "colab_type": "code",
        "outputId": "c7f02f0a-c1e7-400d-898a-58843f340733",
        "colab": {
          "base_uri": "https://localhost:8080/",
          "height": 836
        }
      },
      "source": [
        "#!pip install ipython tqdm requests boto3 regex click joblib nltk scikit-learn jupyter\n",
        "!pip install torch torchvision transformers\n",
        "!git clone https://github.com/marcovzla/discobert.git\n",
        "\n"
      ],
      "execution_count": 1,
      "outputs": [
        {
          "output_type": "stream",
          "text": [
            "Requirement already satisfied: torch in /usr/local/lib/python3.6/dist-packages (1.4.0)\n",
            "Requirement already satisfied: torchvision in /usr/local/lib/python3.6/dist-packages (0.5.0)\n",
            "Collecting transformers\n",
            "\u001b[?25l  Downloading https://files.pythonhosted.org/packages/ee/fc/bd726a15ab2c66dc09306689d04da07a3770dad724f0883f0a4bfb745087/transformers-2.4.1-py3-none-any.whl (475kB)\n",
            "\u001b[K     |████████████████████████████████| 481kB 6.9MB/s \n",
            "\u001b[?25hRequirement already satisfied: numpy in /usr/local/lib/python3.6/dist-packages (from torchvision) (1.17.5)\n",
            "Requirement already satisfied: pillow>=4.1.1 in /usr/local/lib/python3.6/dist-packages (from torchvision) (6.2.2)\n",
            "Requirement already satisfied: six in /usr/local/lib/python3.6/dist-packages (from torchvision) (1.12.0)\n",
            "Collecting tokenizers==0.0.11\n",
            "\u001b[?25l  Downloading https://files.pythonhosted.org/packages/5e/36/7af38d572c935f8e0462ec7b4f7a46d73a2b3b1a938f50a5e8132d5b2dc5/tokenizers-0.0.11-cp36-cp36m-manylinux1_x86_64.whl (3.1MB)\n",
            "\u001b[K     |████████████████████████████████| 3.1MB 43.3MB/s \n",
            "\u001b[?25hRequirement already satisfied: regex!=2019.12.17 in /usr/local/lib/python3.6/dist-packages (from transformers) (2019.12.20)\n",
            "Requirement already satisfied: filelock in /usr/local/lib/python3.6/dist-packages (from transformers) (3.0.12)\n",
            "Requirement already satisfied: tqdm>=4.27 in /usr/local/lib/python3.6/dist-packages (from transformers) (4.28.1)\n",
            "Collecting sentencepiece\n",
            "\u001b[?25l  Downloading https://files.pythonhosted.org/packages/74/f4/2d5214cbf13d06e7cb2c20d84115ca25b53ea76fa1f0ade0e3c9749de214/sentencepiece-0.1.85-cp36-cp36m-manylinux1_x86_64.whl (1.0MB)\n",
            "\u001b[K     |████████████████████████████████| 1.0MB 39.9MB/s \n",
            "\u001b[?25hRequirement already satisfied: boto3 in /usr/local/lib/python3.6/dist-packages (from transformers) (1.11.9)\n",
            "Requirement already satisfied: requests in /usr/local/lib/python3.6/dist-packages (from transformers) (2.21.0)\n",
            "Collecting sacremoses\n",
            "\u001b[?25l  Downloading https://files.pythonhosted.org/packages/a6/b4/7a41d630547a4afd58143597d5a49e07bfd4c42914d8335b2a5657efc14b/sacremoses-0.0.38.tar.gz (860kB)\n",
            "\u001b[K     |████████████████████████████████| 870kB 46.1MB/s \n",
            "\u001b[?25hRequirement already satisfied: botocore<1.15.0,>=1.14.9 in /usr/local/lib/python3.6/dist-packages (from boto3->transformers) (1.14.9)\n",
            "Requirement already satisfied: jmespath<1.0.0,>=0.7.1 in /usr/local/lib/python3.6/dist-packages (from boto3->transformers) (0.9.4)\n",
            "Requirement already satisfied: s3transfer<0.4.0,>=0.3.0 in /usr/local/lib/python3.6/dist-packages (from boto3->transformers) (0.3.2)\n",
            "Requirement already satisfied: certifi>=2017.4.17 in /usr/local/lib/python3.6/dist-packages (from requests->transformers) (2019.11.28)\n",
            "Requirement already satisfied: chardet<3.1.0,>=3.0.2 in /usr/local/lib/python3.6/dist-packages (from requests->transformers) (3.0.4)\n",
            "Requirement already satisfied: idna<2.9,>=2.5 in /usr/local/lib/python3.6/dist-packages (from requests->transformers) (2.8)\n",
            "Requirement already satisfied: urllib3<1.25,>=1.21.1 in /usr/local/lib/python3.6/dist-packages (from requests->transformers) (1.24.3)\n",
            "Requirement already satisfied: click in /usr/local/lib/python3.6/dist-packages (from sacremoses->transformers) (7.0)\n",
            "Requirement already satisfied: joblib in /usr/local/lib/python3.6/dist-packages (from sacremoses->transformers) (0.14.1)\n",
            "Requirement already satisfied: python-dateutil<3.0.0,>=2.1 in /usr/local/lib/python3.6/dist-packages (from botocore<1.15.0,>=1.14.9->boto3->transformers) (2.6.1)\n",
            "Requirement already satisfied: docutils<0.16,>=0.10 in /usr/local/lib/python3.6/dist-packages (from botocore<1.15.0,>=1.14.9->boto3->transformers) (0.15.2)\n",
            "Building wheels for collected packages: sacremoses\n",
            "  Building wheel for sacremoses (setup.py) ... \u001b[?25l\u001b[?25hdone\n",
            "  Created wheel for sacremoses: filename=sacremoses-0.0.38-cp36-none-any.whl size=884628 sha256=38d812ab66cb99c9b157fcd25be9946d0e1e340680273c957ac2adf7fe51f296\n",
            "  Stored in directory: /root/.cache/pip/wheels/6d/ec/1a/21b8912e35e02741306f35f66c785f3afe94de754a0eaf1422\n",
            "Successfully built sacremoses\n",
            "Installing collected packages: tokenizers, sentencepiece, sacremoses, transformers\n",
            "Successfully installed sacremoses-0.0.38 sentencepiece-0.1.85 tokenizers-0.0.11 transformers-2.4.1\n",
            "Cloning into 'discobert'...\n",
            "remote: Enumerating objects: 148, done.\u001b[K\n",
            "remote: Counting objects: 100% (148/148), done.\u001b[K\n",
            "remote: Compressing objects: 100% (105/105), done.\u001b[K\n",
            "remote: Total 148 (delta 92), reused 92 (delta 43), pack-reused 0\u001b[K\n",
            "Receiving objects: 100% (148/148), 31.81 KiB | 3.53 MiB/s, done.\n",
            "Resolving deltas: 100% (92/92), done.\n"
          ],
          "name": "stdout"
        }
      ]
    },
    {
      "cell_type": "markdown",
      "metadata": {
        "id": "H5RSh6zU0GNY",
        "colab_type": "text"
      },
      "source": [
        "## Data is mounted in GDrive"
      ]
    },
    {
      "cell_type": "code",
      "metadata": {
        "id": "eHulovCOuhlL",
        "colab_type": "code",
        "outputId": "5d2ef8d8-e7bc-4eeb-bf78-362e2f3f3d84",
        "colab": {
          "base_uri": "https://localhost:8080/",
          "height": 122
        }
      },
      "source": [
        "from google.colab import drive\n",
        "drive.mount('/content/drive')"
      ],
      "execution_count": 2,
      "outputs": [
        {
          "output_type": "stream",
          "text": [
            "Go to this URL in a browser: https://accounts.google.com/o/oauth2/auth?client_id=947318989803-6bn6qk8qdgf4n4g3pfee6491hc0brc4i.apps.googleusercontent.com&redirect_uri=urn%3aietf%3awg%3aoauth%3a2.0%3aoob&response_type=code&scope=email%20https%3a%2f%2fwww.googleapis.com%2fauth%2fdocs.test%20https%3a%2f%2fwww.googleapis.com%2fauth%2fdrive%20https%3a%2f%2fwww.googleapis.com%2fauth%2fdrive.photos.readonly%20https%3a%2f%2fwww.googleapis.com%2fauth%2fpeopleapi.readonly\n",
            "\n",
            "Enter your authorization code:\n",
            "··········\n",
            "Mounted at /content/drive\n"
          ],
          "name": "stdout"
        }
      ]
    },
    {
      "cell_type": "markdown",
      "metadata": {
        "id": "Ltyj1CIY0MgI",
        "colab_type": "text"
      },
      "source": [
        "## Running the model... from the github dir"
      ]
    },
    {
      "cell_type": "code",
      "metadata": {
        "id": "TnCD2u8Bxg3M",
        "colab_type": "code",
        "outputId": "38fff428-5914-4169-a162-00b1703c9f02",
        "colab": {
          "base_uri": "https://localhost:8080/",
          "height": 51
        }
      },
      "source": [
        "cd discobert\n"
      ],
      "execution_count": 4,
      "outputs": [
        {
          "output_type": "stream",
          "text": [
            "[Errno 2] No such file or directory: 'discobert'\n",
            "/content/discobert\n"
          ],
          "name": "stdout"
        }
      ]
    },
    {
      "cell_type": "markdown",
      "metadata": {
        "id": "UCp9OXT_0S__",
        "colab_type": "text"
      },
      "source": [
        "Pull the repo for latest code"
      ]
    },
    {
      "cell_type": "code",
      "metadata": {
        "id": "NEl6xU8CpyJi",
        "colab_type": "code",
        "outputId": "02f2045b-7afa-4861-c990-87e065a5449d",
        "colab": {
          "base_uri": "https://localhost:8080/",
          "height": 221
        }
      },
      "source": [
        "!git pull origin master\n",
        "# ls"
      ],
      "execution_count": 5,
      "outputs": [
        {
          "output_type": "stream",
          "text": [
            "remote: Enumerating objects: 9, done.\u001b[K\n",
            "remote: Counting objects:  12% (1/8)\u001b[K\rremote: Counting objects:  25% (2/8)\u001b[K\rremote: Counting objects:  37% (3/8)\u001b[K\rremote: Counting objects:  50% (4/8)\u001b[K\rremote: Counting objects:  62% (5/8)\u001b[K\rremote: Counting objects:  75% (6/8)\u001b[K\rremote: Counting objects:  87% (7/8)\u001b[K\rremote: Counting objects: 100% (8/8)\u001b[K\rremote: Counting objects: 100% (8/8), done.\u001b[K\n",
            "remote: Compressing objects:  50% (1/2)\u001b[K\rremote: Compressing objects: 100% (2/2)\u001b[K\rremote: Compressing objects: 100% (2/2), done.\u001b[K\n",
            "remote: Total 5 (delta 3), reused 5 (delta 3), pack-reused 0\u001b[K\n",
            "Unpacking objects:  20% (1/5)   \rUnpacking objects:  40% (2/5)   \rUnpacking objects:  60% (3/5)   \rUnpacking objects:  80% (4/5)   \rUnpacking objects: 100% (5/5)   \rUnpacking objects: 100% (5/5), done.\n",
            "From https://github.com/marcovzla/discobert\n",
            " * branch            master     -> FETCH_HEAD\n",
            "   1fb713a..ff2b909  master     -> origin/master\n",
            "Updating 1fb713a..ff2b909\n",
            "Fast-forward\n",
            " train.py | 89 \u001b[32m+++++++++++++++++++++++++++++++++++++\u001b[m\u001b[31m---------------------------\u001b[m\n",
            " 1 file changed, 52 insertions(+), 37 deletions(-)\n"
          ],
          "name": "stdout"
        }
      ]
    },
    {
      "cell_type": "markdown",
      "metadata": {
        "id": "qWeSMHcW0dps",
        "colab_type": "text"
      },
      "source": [
        "# Training code"
      ]
    },
    {
      "cell_type": "code",
      "metadata": {
        "id": "X5g8P13daXdJ",
        "colab_type": "code",
        "colab": {}
      },
      "source": [
        "import os\n",
        "import torch\n",
        "from torch.optim import Adam\n",
        "from tqdm.autonotebook import tqdm\n",
        "from model import DiscoBertModel\n",
        "from rst import load_annotations, iter_spans_only\n",
        "\n",
        "DATA=\"../drive/My Drive/discobert/data/\"\n",
        "train_dir = os.path.join(DATA, 'training_subset')\n",
        "# train_dir = os.path.join(DATA, 'toy')\n",
        "val_dir = os.path.join(DATA, 'validation')\n",
        "# val_dir = os.path.join(DATA, 'toy')\n",
        "model_dir = \"../drive/My Drive/discobert/models/colab\"\n",
        "# model_dir = \"../.\"\n",
        "lr = 1e-1\n",
        "num_epochs = 10\n",
        "device = 'cuda'\n",
        "\n",
        "\n",
        "def train(num_epochs, learning_rate, device, train_dir, val_dir, model_dir):\n",
        "    with open(os.path.join(model_dir, \"log.txt\"), 'a') as logfile:\n",
        "\n",
        "        torch.cuda.empty_cache()\n",
        "        discobert = DiscoBertModel()\n",
        "        discobert.set_device(device, init_weights=True)\n",
        "        discobert.to(device)\n",
        "\n",
        "        # setup the optimizer, loss, etc\n",
        "        optimizer = Adam(params=discobert.parameters(), lr=learning_rate)\n",
        "\n",
        "        # for each epoch\n",
        "        for epoch_i in range(num_epochs):\n",
        "            print(f'Beginning epoch {epoch_i}')\n",
        "            print(f'Beginning epoch {epoch_i}', file=logfile)\n",
        "\n",
        "            for annotation in tqdm(list(load_annotations(train_dir))):\n",
        "                discobert.zero_grad()\n",
        "                loss, pred_tree = discobert(annotation.edus, annotation.dis)\n",
        "                loss.backward()\n",
        "                optimizer.step()\n",
        "\n",
        "            print(f'Finished epoch {epoch_i}')\n",
        "            print(f'Finished epoch {epoch_i}', file=logfile)\n",
        "\n",
        "            # save model\n",
        "            epoch_model_dir = os.path.join(model_dir, f'discobert_{epoch_i}')\n",
        "            if not os.path.exists(epoch_model_dir):\n",
        "                os.makedirs(epoch_model_dir)\n",
        "            discobert.save_pretrained(epoch_model_dir)\n",
        "            # evaluate on validation\n",
        "            # if discobert.device == 'cuda':\n",
        "            #     torch.cuda.empty_cache()\n",
        "            #     torch.cuda.synchronize()\n",
        "            predict(val_dir, discobert, logfile)\n",
        "\n",
        "\n",
        "def predict(data_dir, discobert, logfile):\n",
        "    all_gold_nodes = []\n",
        "    all_pred_nodes = []\n",
        "\n",
        "    all_gold_spans = []\n",
        "    all_pred_spans = []\n",
        "\n",
        "    for annotation in tqdm(list(load_annotations(data_dir))):\n",
        "        pred_tree = discobert(annotation.edus)[0]\n",
        "\n",
        "        ann_gold_nodes = annotation.dis.get_nonterminals()\n",
        "        ann_gold_spans = [f'{annotation.docid}_{x}' for x in list(iter_spans_only(ann_gold_nodes))]\n",
        "        all_gold_nodes.extend(ann_gold_nodes)\n",
        "        all_gold_spans.extend(ann_gold_spans)\n",
        "\n",
        "        ann_pred_nodes = pred_tree.get_nonterminals()\n",
        "        ann_pred_spans = [f'{annotation.docid}_{x}' for x in list(iter_spans_only(ann_pred_nodes))]\n",
        "        all_pred_nodes.extend(ann_pred_nodes)\n",
        "        all_pred_spans.extend(ann_pred_spans)\n",
        "\n",
        "    p, r, f1 = eval(all_gold_spans, all_pred_spans)\n",
        "    print(f'P:{p}\\tR:{r}\\tF1:{f1}')\n",
        "    print(f'P:{p}\\tR:{r}\\tF1:{f1}', file=logfile)\n",
        "    \n",
        "\n",
        "def eval(gold, pred):\n",
        "    print(gold[:20])\n",
        "    print(len(gold))\n",
        "    print(\"-\"*70)\n",
        "    print(pred[:20])\n",
        "    print(len(pred))\n",
        "    print(\"-\"*70)\n",
        "\n",
        "    TP, FP, FN = 0, 0, 0\n",
        "    for g in gold:\n",
        "        if g in pred:\n",
        "            TP += 1\n",
        "            #print(\"TP:\", g)\n",
        "        else:\n",
        "            # print(\"FN:\", g)\n",
        "            FN += 1\n",
        "\n",
        "    for p in pred:\n",
        "        if p not in gold:\n",
        "            FP += 1\n",
        "            # print(\"FP:\", p)\n",
        "\n",
        "    print(f\"TP: {TP}\\tFN: {FN}\\tFP: {FP}\")\n",
        "    precision = TP / (TP + FP)\n",
        "    recall = TP / (TP + FN)\n",
        "    f1 = 2 * ((precision * recall) / (precision + recall))\n",
        "    return precision, recall, f1\n",
        "\n",
        "# train(num_epochs, lr, device, train_dir, val_dir, model_dir)"
      ],
      "execution_count": 0,
      "outputs": []
    },
    {
      "cell_type": "markdown",
      "metadata": {
        "id": "WlOkhnO-0g1_",
        "colab_type": "text"
      },
      "source": [
        "# Actually run the training"
      ]
    },
    {
      "cell_type": "code",
      "metadata": {
        "id": "zzutAzbUiJQs",
        "colab_type": "code",
        "outputId": "a7a5511e-fd8a-4ef6-b23f-659164a12d1a",
        "colab": {
          "base_uri": "https://localhost:8080/",
          "height": 1000,
          "referenced_widgets": [
            "fdfdc9fbcc1342f4a5bbe6f6a268065d",
            "f932a0d319ef436e868b2fb62bb23117",
            "714374fece3b46df89f222905b94ba90",
            "5e8dfd6fb1c241458a353dec77fc87ab",
            "957d734d08674c2faafa579ed86aced5",
            "6cc3c20f072749d98465e247910174e1",
            "0475bbc7207f46cb88b9ca1422d28ced",
            "831a2a623a3b4de59db94c71ed83a462",
            "d9db672e5bb6456b9ae26e55445a9e3e",
            "dcf98267ffbe41f7b99e0d578a682d20",
            "1acafb9dcb304508b792f9611e1c0657",
            "6c1385094aac4f1a9a96d7d5926af51c",
            "fb835e3770d14c0e8c7e179446d0414e",
            "c96bca2a058c40469463f6822462a1e8",
            "a40187216d9749eda7499970e1d0ba1c",
            "5a37e6b5a48d42d7913fa5abbd65d443",
            "6d403857aac242fb9b2f243dbad06f89"
          ]
        }
      },
      "source": [
        "train(num_epochs, lr, device, train_dir, val_dir, model_dir)"
      ],
      "execution_count": 0,
      "outputs": [
        {
          "output_type": "stream",
          "text": [
            "Beginning epoch 0\n"
          ],
          "name": "stdout"
        },
        {
          "output_type": "display_data",
          "data": {
            "application/vnd.jupyter.widget-view+json": {
              "model_id": "fdfdc9fbcc1342f4a5bbe6f6a268065d",
              "version_minor": 0,
              "version_major": 2
            },
            "text/plain": [
              "HBox(children=(IntProgress(value=0, max=292), HTML(value='')))"
            ]
          },
          "metadata": {
            "tags": []
          }
        },
        {
          "output_type": "stream",
          "text": [
            "Finished epoch 0\n"
          ],
          "name": "stdout"
        },
        {
          "output_type": "display_data",
          "data": {
            "application/vnd.jupyter.widget-view+json": {
              "model_id": "f932a0d319ef436e868b2fb62bb23117",
              "version_minor": 0,
              "version_major": 2
            },
            "text/plain": [
              "HBox(children=(IntProgress(value=0, max=50), HTML(value='')))"
            ]
          },
          "metadata": {
            "tags": []
          }
        },
        {
          "output_type": "stream",
          "text": [
            "['wsj_1171.out_range(0, 114)', 'wsj_1171.out_range(0, 11)', 'wsj_1171.out_range(0, 2)', 'wsj_1171.out_range(2, 11)', 'wsj_1171.out_range(2, 9)', 'wsj_1171.out_range(2, 4)', 'wsj_1171.out_range(4, 9)', 'wsj_1171.out_range(4, 6)', 'wsj_1171.out_range(6, 9)', 'wsj_1171.out_range(7, 9)', 'wsj_1171.out_range(9, 11)', 'wsj_1171.out_range(11, 114)', 'wsj_1171.out_range(11, 35)', 'wsj_1171.out_range(11, 28)', 'wsj_1171.out_range(11, 21)', 'wsj_1171.out_range(11, 19)', 'wsj_1171.out_range(11, 16)', 'wsj_1171.out_range(11, 15)', 'wsj_1171.out_range(11, 13)', 'wsj_1171.out_range(13, 15)']\n",
            "2468\n",
            "----------------------------------------------------------------------\n",
            "['wsj_1171.out_range(0, 114)', 'wsj_1171.out_range(0, 113)', 'wsj_1171.out_range(0, 112)', 'wsj_1171.out_range(0, 111)', 'wsj_1171.out_range(0, 110)', 'wsj_1171.out_range(0, 109)', 'wsj_1171.out_range(0, 108)', 'wsj_1171.out_range(0, 107)', 'wsj_1171.out_range(0, 106)', 'wsj_1171.out_range(0, 105)', 'wsj_1171.out_range(0, 104)', 'wsj_1171.out_range(0, 103)', 'wsj_1171.out_range(0, 102)', 'wsj_1171.out_range(0, 101)', 'wsj_1171.out_range(0, 100)', 'wsj_1171.out_range(0, 99)', 'wsj_1171.out_range(0, 98)', 'wsj_1171.out_range(0, 97)', 'wsj_1171.out_range(0, 96)', 'wsj_1171.out_range(0, 95)']\n",
            "2468\n",
            "----------------------------------------------------------------------\n",
            "TP: 224\tFN: 2244\tFP: 2244\n",
            "P:0.09076175040518639\tR:0.09076175040518639\tF1:0.09076175040518639\n",
            "Beginning epoch 1\n"
          ],
          "name": "stdout"
        },
        {
          "output_type": "display_data",
          "data": {
            "application/vnd.jupyter.widget-view+json": {
              "model_id": "714374fece3b46df89f222905b94ba90",
              "version_minor": 0,
              "version_major": 2
            },
            "text/plain": [
              "HBox(children=(IntProgress(value=0, max=292), HTML(value='')))"
            ]
          },
          "metadata": {
            "tags": []
          }
        },
        {
          "output_type": "stream",
          "text": [
            "Finished epoch 1\n"
          ],
          "name": "stdout"
        },
        {
          "output_type": "display_data",
          "data": {
            "application/vnd.jupyter.widget-view+json": {
              "model_id": "5e8dfd6fb1c241458a353dec77fc87ab",
              "version_minor": 0,
              "version_major": 2
            },
            "text/plain": [
              "HBox(children=(IntProgress(value=0, max=50), HTML(value='')))"
            ]
          },
          "metadata": {
            "tags": []
          }
        },
        {
          "output_type": "stream",
          "text": [
            "['wsj_1171.out_range(0, 114)', 'wsj_1171.out_range(0, 11)', 'wsj_1171.out_range(0, 2)', 'wsj_1171.out_range(2, 11)', 'wsj_1171.out_range(2, 9)', 'wsj_1171.out_range(2, 4)', 'wsj_1171.out_range(4, 9)', 'wsj_1171.out_range(4, 6)', 'wsj_1171.out_range(6, 9)', 'wsj_1171.out_range(7, 9)', 'wsj_1171.out_range(9, 11)', 'wsj_1171.out_range(11, 114)', 'wsj_1171.out_range(11, 35)', 'wsj_1171.out_range(11, 28)', 'wsj_1171.out_range(11, 21)', 'wsj_1171.out_range(11, 19)', 'wsj_1171.out_range(11, 16)', 'wsj_1171.out_range(11, 15)', 'wsj_1171.out_range(11, 13)', 'wsj_1171.out_range(13, 15)']\n",
            "2468\n",
            "----------------------------------------------------------------------\n",
            "['wsj_1171.out_range(0, 114)', 'wsj_1171.out_range(1, 114)', 'wsj_1171.out_range(2, 114)', 'wsj_1171.out_range(3, 114)', 'wsj_1171.out_range(4, 114)', 'wsj_1171.out_range(5, 114)', 'wsj_1171.out_range(6, 114)', 'wsj_1171.out_range(7, 114)', 'wsj_1171.out_range(8, 114)', 'wsj_1171.out_range(9, 114)', 'wsj_1171.out_range(10, 114)', 'wsj_1171.out_range(11, 114)', 'wsj_1171.out_range(12, 114)', 'wsj_1171.out_range(13, 114)', 'wsj_1171.out_range(14, 114)', 'wsj_1171.out_range(15, 114)', 'wsj_1171.out_range(16, 114)', 'wsj_1171.out_range(17, 114)', 'wsj_1171.out_range(18, 114)', 'wsj_1171.out_range(19, 114)']\n",
            "2468\n",
            "----------------------------------------------------------------------\n",
            "TP: 223\tFN: 2245\tFP: 2245\n",
            "P:0.09035656401944894\tR:0.09035656401944894\tF1:0.09035656401944894\n",
            "Beginning epoch 2\n"
          ],
          "name": "stdout"
        },
        {
          "output_type": "display_data",
          "data": {
            "application/vnd.jupyter.widget-view+json": {
              "model_id": "957d734d08674c2faafa579ed86aced5",
              "version_minor": 0,
              "version_major": 2
            },
            "text/plain": [
              "HBox(children=(IntProgress(value=0, max=292), HTML(value='')))"
            ]
          },
          "metadata": {
            "tags": []
          }
        },
        {
          "output_type": "stream",
          "text": [
            "Finished epoch 2\n"
          ],
          "name": "stdout"
        },
        {
          "output_type": "display_data",
          "data": {
            "application/vnd.jupyter.widget-view+json": {
              "model_id": "6cc3c20f072749d98465e247910174e1",
              "version_minor": 0,
              "version_major": 2
            },
            "text/plain": [
              "HBox(children=(IntProgress(value=0, max=50), HTML(value='')))"
            ]
          },
          "metadata": {
            "tags": []
          }
        },
        {
          "output_type": "stream",
          "text": [
            "['wsj_1171.out_range(0, 114)', 'wsj_1171.out_range(0, 11)', 'wsj_1171.out_range(0, 2)', 'wsj_1171.out_range(2, 11)', 'wsj_1171.out_range(2, 9)', 'wsj_1171.out_range(2, 4)', 'wsj_1171.out_range(4, 9)', 'wsj_1171.out_range(4, 6)', 'wsj_1171.out_range(6, 9)', 'wsj_1171.out_range(7, 9)', 'wsj_1171.out_range(9, 11)', 'wsj_1171.out_range(11, 114)', 'wsj_1171.out_range(11, 35)', 'wsj_1171.out_range(11, 28)', 'wsj_1171.out_range(11, 21)', 'wsj_1171.out_range(11, 19)', 'wsj_1171.out_range(11, 16)', 'wsj_1171.out_range(11, 15)', 'wsj_1171.out_range(11, 13)', 'wsj_1171.out_range(13, 15)']\n",
            "2468\n",
            "----------------------------------------------------------------------\n",
            "['wsj_1171.out_range(0, 114)', 'wsj_1171.out_range(1, 114)', 'wsj_1171.out_range(2, 114)', 'wsj_1171.out_range(3, 114)', 'wsj_1171.out_range(4, 114)', 'wsj_1171.out_range(5, 114)', 'wsj_1171.out_range(6, 114)', 'wsj_1171.out_range(7, 114)', 'wsj_1171.out_range(8, 114)', 'wsj_1171.out_range(9, 114)', 'wsj_1171.out_range(10, 114)', 'wsj_1171.out_range(11, 114)', 'wsj_1171.out_range(12, 114)', 'wsj_1171.out_range(13, 114)', 'wsj_1171.out_range(14, 114)', 'wsj_1171.out_range(15, 114)', 'wsj_1171.out_range(16, 114)', 'wsj_1171.out_range(17, 114)', 'wsj_1171.out_range(18, 114)', 'wsj_1171.out_range(19, 114)']\n",
            "2468\n",
            "----------------------------------------------------------------------\n",
            "TP: 223\tFN: 2245\tFP: 2245\n",
            "P:0.09035656401944894\tR:0.09035656401944894\tF1:0.09035656401944894\n",
            "Beginning epoch 3\n"
          ],
          "name": "stdout"
        },
        {
          "output_type": "display_data",
          "data": {
            "application/vnd.jupyter.widget-view+json": {
              "model_id": "0475bbc7207f46cb88b9ca1422d28ced",
              "version_minor": 0,
              "version_major": 2
            },
            "text/plain": [
              "HBox(children=(IntProgress(value=0, max=292), HTML(value='')))"
            ]
          },
          "metadata": {
            "tags": []
          }
        },
        {
          "output_type": "stream",
          "text": [
            "Finished epoch 3\n"
          ],
          "name": "stdout"
        },
        {
          "output_type": "display_data",
          "data": {
            "application/vnd.jupyter.widget-view+json": {
              "model_id": "831a2a623a3b4de59db94c71ed83a462",
              "version_minor": 0,
              "version_major": 2
            },
            "text/plain": [
              "HBox(children=(IntProgress(value=0, max=50), HTML(value='')))"
            ]
          },
          "metadata": {
            "tags": []
          }
        },
        {
          "output_type": "stream",
          "text": [
            "['wsj_1171.out_range(0, 114)', 'wsj_1171.out_range(0, 11)', 'wsj_1171.out_range(0, 2)', 'wsj_1171.out_range(2, 11)', 'wsj_1171.out_range(2, 9)', 'wsj_1171.out_range(2, 4)', 'wsj_1171.out_range(4, 9)', 'wsj_1171.out_range(4, 6)', 'wsj_1171.out_range(6, 9)', 'wsj_1171.out_range(7, 9)', 'wsj_1171.out_range(9, 11)', 'wsj_1171.out_range(11, 114)', 'wsj_1171.out_range(11, 35)', 'wsj_1171.out_range(11, 28)', 'wsj_1171.out_range(11, 21)', 'wsj_1171.out_range(11, 19)', 'wsj_1171.out_range(11, 16)', 'wsj_1171.out_range(11, 15)', 'wsj_1171.out_range(11, 13)', 'wsj_1171.out_range(13, 15)']\n",
            "2468\n",
            "----------------------------------------------------------------------\n",
            "['wsj_1171.out_range(0, 114)', 'wsj_1171.out_range(0, 105)', 'wsj_1171.out_range(0, 76)', 'wsj_1171.out_range(0, 55)', 'wsj_1171.out_range(0, 40)', 'wsj_1171.out_range(0, 29)', 'wsj_1171.out_range(0, 21)', 'wsj_1171.out_range(0, 15)', 'wsj_1171.out_range(0, 11)', 'wsj_1171.out_range(0, 8)', 'wsj_1171.out_range(0, 6)', 'wsj_1171.out_range(0, 4)', 'wsj_1171.out_range(0, 3)', 'wsj_1171.out_range(0, 2)', 'wsj_1171.out_range(4, 6)', 'wsj_1171.out_range(6, 8)', 'wsj_1171.out_range(8, 11)', 'wsj_1171.out_range(8, 10)', 'wsj_1171.out_range(11, 15)', 'wsj_1171.out_range(11, 14)']\n",
            "2468\n",
            "----------------------------------------------------------------------\n",
            "TP: 514\tFN: 1954\tFP: 1954\n",
            "P:0.20826580226904376\tR:0.20826580226904376\tF1:0.20826580226904376\n",
            "Beginning epoch 4\n"
          ],
          "name": "stdout"
        },
        {
          "output_type": "display_data",
          "data": {
            "application/vnd.jupyter.widget-view+json": {
              "model_id": "d9db672e5bb6456b9ae26e55445a9e3e",
              "version_minor": 0,
              "version_major": 2
            },
            "text/plain": [
              "HBox(children=(IntProgress(value=0, max=292), HTML(value='')))"
            ]
          },
          "metadata": {
            "tags": []
          }
        },
        {
          "output_type": "stream",
          "text": [
            "Finished epoch 4\n"
          ],
          "name": "stdout"
        },
        {
          "output_type": "display_data",
          "data": {
            "application/vnd.jupyter.widget-view+json": {
              "model_id": "dcf98267ffbe41f7b99e0d578a682d20",
              "version_minor": 0,
              "version_major": 2
            },
            "text/plain": [
              "HBox(children=(IntProgress(value=0, max=50), HTML(value='')))"
            ]
          },
          "metadata": {
            "tags": []
          }
        },
        {
          "output_type": "stream",
          "text": [
            "['wsj_1171.out_range(0, 114)', 'wsj_1171.out_range(0, 11)', 'wsj_1171.out_range(0, 2)', 'wsj_1171.out_range(2, 11)', 'wsj_1171.out_range(2, 9)', 'wsj_1171.out_range(2, 4)', 'wsj_1171.out_range(4, 9)', 'wsj_1171.out_range(4, 6)', 'wsj_1171.out_range(6, 9)', 'wsj_1171.out_range(7, 9)', 'wsj_1171.out_range(9, 11)', 'wsj_1171.out_range(11, 114)', 'wsj_1171.out_range(11, 35)', 'wsj_1171.out_range(11, 28)', 'wsj_1171.out_range(11, 21)', 'wsj_1171.out_range(11, 19)', 'wsj_1171.out_range(11, 16)', 'wsj_1171.out_range(11, 15)', 'wsj_1171.out_range(11, 13)', 'wsj_1171.out_range(13, 15)']\n",
            "2468\n",
            "----------------------------------------------------------------------\n",
            "['wsj_1171.out_range(0, 114)', 'wsj_1171.out_range(1, 114)', 'wsj_1171.out_range(2, 114)', 'wsj_1171.out_range(3, 114)', 'wsj_1171.out_range(4, 114)', 'wsj_1171.out_range(5, 114)', 'wsj_1171.out_range(6, 114)', 'wsj_1171.out_range(7, 114)', 'wsj_1171.out_range(8, 114)', 'wsj_1171.out_range(9, 114)', 'wsj_1171.out_range(10, 114)', 'wsj_1171.out_range(11, 114)', 'wsj_1171.out_range(12, 114)', 'wsj_1171.out_range(13, 114)', 'wsj_1171.out_range(14, 114)', 'wsj_1171.out_range(15, 114)', 'wsj_1171.out_range(16, 114)', 'wsj_1171.out_range(17, 114)', 'wsj_1171.out_range(18, 114)', 'wsj_1171.out_range(19, 114)']\n",
            "2468\n",
            "----------------------------------------------------------------------\n",
            "TP: 223\tFN: 2245\tFP: 2245\n",
            "P:0.09035656401944894\tR:0.09035656401944894\tF1:0.09035656401944894\n",
            "Beginning epoch 5\n"
          ],
          "name": "stdout"
        },
        {
          "output_type": "display_data",
          "data": {
            "application/vnd.jupyter.widget-view+json": {
              "model_id": "1acafb9dcb304508b792f9611e1c0657",
              "version_minor": 0,
              "version_major": 2
            },
            "text/plain": [
              "HBox(children=(IntProgress(value=0, max=292), HTML(value='')))"
            ]
          },
          "metadata": {
            "tags": []
          }
        },
        {
          "output_type": "stream",
          "text": [
            "Finished epoch 5\n"
          ],
          "name": "stdout"
        },
        {
          "output_type": "display_data",
          "data": {
            "application/vnd.jupyter.widget-view+json": {
              "model_id": "6c1385094aac4f1a9a96d7d5926af51c",
              "version_minor": 0,
              "version_major": 2
            },
            "text/plain": [
              "HBox(children=(IntProgress(value=0, max=50), HTML(value='')))"
            ]
          },
          "metadata": {
            "tags": []
          }
        },
        {
          "output_type": "stream",
          "text": [
            "['wsj_1171.out_range(0, 114)', 'wsj_1171.out_range(0, 11)', 'wsj_1171.out_range(0, 2)', 'wsj_1171.out_range(2, 11)', 'wsj_1171.out_range(2, 9)', 'wsj_1171.out_range(2, 4)', 'wsj_1171.out_range(4, 9)', 'wsj_1171.out_range(4, 6)', 'wsj_1171.out_range(6, 9)', 'wsj_1171.out_range(7, 9)', 'wsj_1171.out_range(9, 11)', 'wsj_1171.out_range(11, 114)', 'wsj_1171.out_range(11, 35)', 'wsj_1171.out_range(11, 28)', 'wsj_1171.out_range(11, 21)', 'wsj_1171.out_range(11, 19)', 'wsj_1171.out_range(11, 16)', 'wsj_1171.out_range(11, 15)', 'wsj_1171.out_range(11, 13)', 'wsj_1171.out_range(13, 15)']\n",
            "2468\n",
            "----------------------------------------------------------------------\n",
            "['wsj_1171.out_range(0, 114)', 'wsj_1171.out_range(1, 114)', 'wsj_1171.out_range(2, 114)', 'wsj_1171.out_range(3, 114)', 'wsj_1171.out_range(4, 114)', 'wsj_1171.out_range(5, 114)', 'wsj_1171.out_range(6, 114)', 'wsj_1171.out_range(7, 114)', 'wsj_1171.out_range(8, 114)', 'wsj_1171.out_range(9, 114)', 'wsj_1171.out_range(10, 114)', 'wsj_1171.out_range(11, 114)', 'wsj_1171.out_range(12, 114)', 'wsj_1171.out_range(13, 114)', 'wsj_1171.out_range(14, 114)', 'wsj_1171.out_range(15, 114)', 'wsj_1171.out_range(16, 114)', 'wsj_1171.out_range(17, 114)', 'wsj_1171.out_range(18, 114)', 'wsj_1171.out_range(19, 114)']\n",
            "2468\n",
            "----------------------------------------------------------------------\n",
            "TP: 223\tFN: 2245\tFP: 2245\n",
            "P:0.09035656401944894\tR:0.09035656401944894\tF1:0.09035656401944894\n",
            "Beginning epoch 6\n"
          ],
          "name": "stdout"
        },
        {
          "output_type": "display_data",
          "data": {
            "application/vnd.jupyter.widget-view+json": {
              "model_id": "fb835e3770d14c0e8c7e179446d0414e",
              "version_minor": 0,
              "version_major": 2
            },
            "text/plain": [
              "HBox(children=(IntProgress(value=0, max=292), HTML(value='')))"
            ]
          },
          "metadata": {
            "tags": []
          }
        },
        {
          "output_type": "stream",
          "text": [
            "Finished epoch 6\n"
          ],
          "name": "stdout"
        },
        {
          "output_type": "display_data",
          "data": {
            "application/vnd.jupyter.widget-view+json": {
              "model_id": "c96bca2a058c40469463f6822462a1e8",
              "version_minor": 0,
              "version_major": 2
            },
            "text/plain": [
              "HBox(children=(IntProgress(value=0, max=50), HTML(value='')))"
            ]
          },
          "metadata": {
            "tags": []
          }
        },
        {
          "output_type": "stream",
          "text": [
            "['wsj_1171.out_range(0, 114)', 'wsj_1171.out_range(0, 11)', 'wsj_1171.out_range(0, 2)', 'wsj_1171.out_range(2, 11)', 'wsj_1171.out_range(2, 9)', 'wsj_1171.out_range(2, 4)', 'wsj_1171.out_range(4, 9)', 'wsj_1171.out_range(4, 6)', 'wsj_1171.out_range(6, 9)', 'wsj_1171.out_range(7, 9)', 'wsj_1171.out_range(9, 11)', 'wsj_1171.out_range(11, 114)', 'wsj_1171.out_range(11, 35)', 'wsj_1171.out_range(11, 28)', 'wsj_1171.out_range(11, 21)', 'wsj_1171.out_range(11, 19)', 'wsj_1171.out_range(11, 16)', 'wsj_1171.out_range(11, 15)', 'wsj_1171.out_range(11, 13)', 'wsj_1171.out_range(13, 15)']\n",
            "2468\n",
            "----------------------------------------------------------------------\n",
            "['wsj_1171.out_range(0, 114)', 'wsj_1171.out_range(1, 114)', 'wsj_1171.out_range(2, 114)', 'wsj_1171.out_range(3, 114)', 'wsj_1171.out_range(4, 114)', 'wsj_1171.out_range(5, 114)', 'wsj_1171.out_range(6, 114)', 'wsj_1171.out_range(7, 114)', 'wsj_1171.out_range(8, 114)', 'wsj_1171.out_range(9, 114)', 'wsj_1171.out_range(10, 114)', 'wsj_1171.out_range(11, 114)', 'wsj_1171.out_range(12, 114)', 'wsj_1171.out_range(13, 114)', 'wsj_1171.out_range(14, 114)', 'wsj_1171.out_range(15, 114)', 'wsj_1171.out_range(16, 114)', 'wsj_1171.out_range(17, 114)', 'wsj_1171.out_range(18, 114)', 'wsj_1171.out_range(19, 114)']\n",
            "2468\n",
            "----------------------------------------------------------------------\n",
            "TP: 223\tFN: 2245\tFP: 2245\n",
            "P:0.09035656401944894\tR:0.09035656401944894\tF1:0.09035656401944894\n",
            "Beginning epoch 7\n"
          ],
          "name": "stdout"
        },
        {
          "output_type": "display_data",
          "data": {
            "application/vnd.jupyter.widget-view+json": {
              "model_id": "a40187216d9749eda7499970e1d0ba1c",
              "version_minor": 0,
              "version_major": 2
            },
            "text/plain": [
              "HBox(children=(IntProgress(value=0, max=292), HTML(value='')))"
            ]
          },
          "metadata": {
            "tags": []
          }
        },
        {
          "output_type": "stream",
          "text": [
            "Finished epoch 7\n"
          ],
          "name": "stdout"
        },
        {
          "output_type": "display_data",
          "data": {
            "application/vnd.jupyter.widget-view+json": {
              "model_id": "5a37e6b5a48d42d7913fa5abbd65d443",
              "version_minor": 0,
              "version_major": 2
            },
            "text/plain": [
              "HBox(children=(IntProgress(value=0, max=50), HTML(value='')))"
            ]
          },
          "metadata": {
            "tags": []
          }
        },
        {
          "output_type": "stream",
          "text": [
            "['wsj_1171.out_range(0, 114)', 'wsj_1171.out_range(0, 11)', 'wsj_1171.out_range(0, 2)', 'wsj_1171.out_range(2, 11)', 'wsj_1171.out_range(2, 9)', 'wsj_1171.out_range(2, 4)', 'wsj_1171.out_range(4, 9)', 'wsj_1171.out_range(4, 6)', 'wsj_1171.out_range(6, 9)', 'wsj_1171.out_range(7, 9)', 'wsj_1171.out_range(9, 11)', 'wsj_1171.out_range(11, 114)', 'wsj_1171.out_range(11, 35)', 'wsj_1171.out_range(11, 28)', 'wsj_1171.out_range(11, 21)', 'wsj_1171.out_range(11, 19)', 'wsj_1171.out_range(11, 16)', 'wsj_1171.out_range(11, 15)', 'wsj_1171.out_range(11, 13)', 'wsj_1171.out_range(13, 15)']\n",
            "2468\n",
            "----------------------------------------------------------------------\n",
            "['wsj_1171.out_range(0, 114)', 'wsj_1171.out_range(0, 64)', 'wsj_1171.out_range(0, 39)', 'wsj_1171.out_range(0, 25)', 'wsj_1171.out_range(0, 18)', 'wsj_1171.out_range(0, 14)', 'wsj_1171.out_range(0, 12)', 'wsj_1171.out_range(0, 11)', 'wsj_1171.out_range(0, 10)', 'wsj_1171.out_range(0, 9)', 'wsj_1171.out_range(0, 8)', 'wsj_1171.out_range(0, 7)', 'wsj_1171.out_range(0, 6)', 'wsj_1171.out_range(0, 5)', 'wsj_1171.out_range(0, 4)', 'wsj_1171.out_range(0, 3)', 'wsj_1171.out_range(0, 2)', 'wsj_1171.out_range(12, 14)', 'wsj_1171.out_range(14, 18)', 'wsj_1171.out_range(14, 17)']\n",
            "2468\n",
            "----------------------------------------------------------------------\n",
            "TP: 376\tFN: 2092\tFP: 2092\n",
            "P:0.15235008103727715\tR:0.15235008103727715\tF1:0.15235008103727715\n",
            "Beginning epoch 8\n"
          ],
          "name": "stdout"
        },
        {
          "output_type": "display_data",
          "data": {
            "application/vnd.jupyter.widget-view+json": {
              "model_id": "6d403857aac242fb9b2f243dbad06f89",
              "version_minor": 0,
              "version_major": 2
            },
            "text/plain": [
              "HBox(children=(IntProgress(value=0, max=292), HTML(value='')))"
            ]
          },
          "metadata": {
            "tags": []
          }
        }
      ]
    }
  ]
}