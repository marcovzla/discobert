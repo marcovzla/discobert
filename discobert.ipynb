{
  "nbformat": 4,
  "nbformat_minor": 0,
  "metadata": {
    "colab": {
      "name": "discobert.ipynb",
      "provenance": [],
      "collapsed_sections": [],
      "authorship_tag": "ABX9TyOXEjp7EdGFOoE588x0wZpc",
      "include_colab_link": true
    },
    "kernelspec": {
      "name": "python3",
      "display_name": "Python 3"
    },
    "accelerator": "GPU",
    "widgets": {
      "application/vnd.jupyter.widget-state+json": {
        "0bd8f1bad3ce469b9db1b15be6a0a148": {
          "model_module": "@jupyter-widgets/controls",
          "model_name": "HBoxModel",
          "state": {
            "_view_name": "HBoxView",
            "_dom_classes": [],
            "_model_name": "HBoxModel",
            "_view_module": "@jupyter-widgets/controls",
            "_model_module_version": "1.5.0",
            "_view_count": null,
            "_view_module_version": "1.5.0",
            "box_style": "",
            "layout": "IPY_MODEL_0e8209772ff845e286a09c4307876492",
            "_model_module": "@jupyter-widgets/controls",
            "children": [
              "IPY_MODEL_fb7cf533ecce4200a3320aaeefd01418",
              "IPY_MODEL_45f607689ee749d1a5c2940163bfb859"
            ]
          }
        },
        "bf507b4873324000addeaa4eb6df49df": {
          "model_module": "@jupyter-widgets/controls",
          "model_name": "HBoxModel",
          "state": {
            "_view_name": "HBoxView",
            "_dom_classes": [],
            "_model_name": "HBoxModel",
            "_view_module": "@jupyter-widgets/controls",
            "_model_module_version": "1.5.0",
            "_view_count": null,
            "_view_module_version": "1.5.0",
            "box_style": "",
            "layout": "IPY_MODEL_5ef165b074cd499bac7c8c1484662052",
            "_model_module": "@jupyter-widgets/controls",
            "children": [
              "IPY_MODEL_10c32f52ddbe41c5a16431fd2ab8b208",
              "IPY_MODEL_1aaa4f2b40724a9f97df5bc17780e1dc"
            ]
          }
        },
        "27ba954b188245d69f9bdacd9f56282e": {
          "model_module": "@jupyter-widgets/controls",
          "model_name": "HBoxModel",
          "state": {
            "_view_name": "HBoxView",
            "_dom_classes": [],
            "_model_name": "HBoxModel",
            "_view_module": "@jupyter-widgets/controls",
            "_model_module_version": "1.5.0",
            "_view_count": null,
            "_view_module_version": "1.5.0",
            "box_style": "",
            "layout": "IPY_MODEL_7f045dab202547f88c516c49b8c62cab",
            "_model_module": "@jupyter-widgets/controls",
            "children": [
              "IPY_MODEL_15bd5e224f844d418c01d2b770b99f28",
              "IPY_MODEL_d1a9e82918794837ab6abfdac1d05e26"
            ]
          }
        },
        "434186224a8041aba2dc3715ca82b502": {
          "model_module": "@jupyter-widgets/controls",
          "model_name": "HBoxModel",
          "state": {
            "_view_name": "HBoxView",
            "_dom_classes": [],
            "_model_name": "HBoxModel",
            "_view_module": "@jupyter-widgets/controls",
            "_model_module_version": "1.5.0",
            "_view_count": null,
            "_view_module_version": "1.5.0",
            "box_style": "",
            "layout": "IPY_MODEL_b0cf9739589d4154b168fd17ade67e0b",
            "_model_module": "@jupyter-widgets/controls",
            "children": [
              "IPY_MODEL_a86a0326eb7040a3aa4d0cc5e7c0b1c2",
              "IPY_MODEL_58af85fc92c0444ea4c7d91fbdb5807e"
            ]
          }
        },
        "4220aef79f07472e9123616e0ed19f4f": {
          "model_module": "@jupyter-widgets/controls",
          "model_name": "HBoxModel",
          "state": {
            "_view_name": "HBoxView",
            "_dom_classes": [],
            "_model_name": "HBoxModel",
            "_view_module": "@jupyter-widgets/controls",
            "_model_module_version": "1.5.0",
            "_view_count": null,
            "_view_module_version": "1.5.0",
            "box_style": "",
            "layout": "IPY_MODEL_07c0afe178984fd688f94684233378a4",
            "_model_module": "@jupyter-widgets/controls",
            "children": [
              "IPY_MODEL_f75bf0665968490280518551ad51b9fd",
              "IPY_MODEL_1dc5068a5ced4c8c82f9c9cce1b3c16b"
            ]
          }
        },
        "e2b1553b94f742b2bb7dc4b606771f83": {
          "model_module": "@jupyter-widgets/controls",
          "model_name": "HBoxModel",
          "state": {
            "_view_name": "HBoxView",
            "_dom_classes": [],
            "_model_name": "HBoxModel",
            "_view_module": "@jupyter-widgets/controls",
            "_model_module_version": "1.5.0",
            "_view_count": null,
            "_view_module_version": "1.5.0",
            "box_style": "",
            "layout": "IPY_MODEL_e7a93f16972f468eb582bf5263965291",
            "_model_module": "@jupyter-widgets/controls",
            "children": [
              "IPY_MODEL_cf0167457fbf42f78fc817cad66b6f74",
              "IPY_MODEL_f0fd5dbdcd1544dc913ea16b3aa8a55c"
            ]
          }
        },
        "c14026f9d1a3452285db0d8a13aef87c": {
          "model_module": "@jupyter-widgets/controls",
          "model_name": "HBoxModel",
          "state": {
            "_view_name": "HBoxView",
            "_dom_classes": [],
            "_model_name": "HBoxModel",
            "_view_module": "@jupyter-widgets/controls",
            "_model_module_version": "1.5.0",
            "_view_count": null,
            "_view_module_version": "1.5.0",
            "box_style": "",
            "layout": "IPY_MODEL_b91c71195c6344fe83a5c925f97a941a",
            "_model_module": "@jupyter-widgets/controls",
            "children": [
              "IPY_MODEL_f73e7358a2764c2f9914922dc205de16",
              "IPY_MODEL_f8a41794d08947339346bdef743cbcf2"
            ]
          }
        },
        "d104d1f842194b8da12561ce6a50a8f5": {
          "model_module": "@jupyter-widgets/controls",
          "model_name": "HBoxModel",
          "state": {
            "_view_name": "HBoxView",
            "_dom_classes": [],
            "_model_name": "HBoxModel",
            "_view_module": "@jupyter-widgets/controls",
            "_model_module_version": "1.5.0",
            "_view_count": null,
            "_view_module_version": "1.5.0",
            "box_style": "",
            "layout": "IPY_MODEL_84a0ad2e57ed41d988e7fb929aaed28d",
            "_model_module": "@jupyter-widgets/controls",
            "children": [
              "IPY_MODEL_6f098871c1d944b7add6daf56c69643a",
              "IPY_MODEL_c14f765c0d384d60ba81a0743947d9d2"
            ]
          }
        },
        "086c52ba0d8f48dd9fab8ba9e7e6e917": {
          "model_module": "@jupyter-widgets/controls",
          "model_name": "HBoxModel",
          "state": {
            "_view_name": "HBoxView",
            "_dom_classes": [],
            "_model_name": "HBoxModel",
            "_view_module": "@jupyter-widgets/controls",
            "_model_module_version": "1.5.0",
            "_view_count": null,
            "_view_module_version": "1.5.0",
            "box_style": "",
            "layout": "IPY_MODEL_d2a65d1d5c804a63a2b167deb2e7f6f9",
            "_model_module": "@jupyter-widgets/controls",
            "children": [
              "IPY_MODEL_f8172615969347679e828bd1a1d99bc4",
              "IPY_MODEL_3529ca16c0ec4eb58e8e3cc4c2ab7a11"
            ]
          }
        },
        "6c4bcc4a692b42339dec519596ce70c4": {
          "model_module": "@jupyter-widgets/controls",
          "model_name": "HBoxModel",
          "state": {
            "_view_name": "HBoxView",
            "_dom_classes": [],
            "_model_name": "HBoxModel",
            "_view_module": "@jupyter-widgets/controls",
            "_model_module_version": "1.5.0",
            "_view_count": null,
            "_view_module_version": "1.5.0",
            "box_style": "",
            "layout": "IPY_MODEL_04fd19eb3840443ab851d411680f6ae2",
            "_model_module": "@jupyter-widgets/controls",
            "children": [
              "IPY_MODEL_7331a8a8a93b486f8393fc764eae314b",
              "IPY_MODEL_8e043a6ca59b4053be0284265964311d"
            ]
          }
        },
        "bb9c4f2b61224b5ba45a0fc407c9fdb3": {
          "model_module": "@jupyter-widgets/controls",
          "model_name": "HBoxModel",
          "state": {
            "_view_name": "HBoxView",
            "_dom_classes": [],
            "_model_name": "HBoxModel",
            "_view_module": "@jupyter-widgets/controls",
            "_model_module_version": "1.5.0",
            "_view_count": null,
            "_view_module_version": "1.5.0",
            "box_style": "",
            "layout": "IPY_MODEL_5fc9f23841c94ce9947542803d1cabcc",
            "_model_module": "@jupyter-widgets/controls",
            "children": [
              "IPY_MODEL_8b93d2fc89074a27a11085c37a3a7e2e",
              "IPY_MODEL_5a5e0c2941cd41d7adeb847dfa497372"
            ]
          }
        },
        "5b92dc2ed7d14b3d912d04655abf55b1": {
          "model_module": "@jupyter-widgets/controls",
          "model_name": "HBoxModel",
          "state": {
            "_view_name": "HBoxView",
            "_dom_classes": [],
            "_model_name": "HBoxModel",
            "_view_module": "@jupyter-widgets/controls",
            "_model_module_version": "1.5.0",
            "_view_count": null,
            "_view_module_version": "1.5.0",
            "box_style": "",
            "layout": "IPY_MODEL_b4af0a26747b414fb7415164f6d994e9",
            "_model_module": "@jupyter-widgets/controls",
            "children": [
              "IPY_MODEL_7c6485605fac4be1ac9f0b064d4a37de",
              "IPY_MODEL_8704741f3fcd4ae386ede293c0e39e3a"
            ]
          }
        },
        "07bf5c2adf224e3fa276f0df1cced9c2": {
          "model_module": "@jupyter-widgets/controls",
          "model_name": "HBoxModel",
          "state": {
            "_view_name": "HBoxView",
            "_dom_classes": [],
            "_model_name": "HBoxModel",
            "_view_module": "@jupyter-widgets/controls",
            "_model_module_version": "1.5.0",
            "_view_count": null,
            "_view_module_version": "1.5.0",
            "box_style": "",
            "layout": "IPY_MODEL_77a4c1c1c4e640fb8b6b66e8304a77a3",
            "_model_module": "@jupyter-widgets/controls",
            "children": [
              "IPY_MODEL_66e49ee0ba37439bb05f447088224524",
              "IPY_MODEL_cbe8187a4e764686a9a38e39dca013bb"
            ]
          }
        },
        "fc927d2dcb0b4082bf9e17b0e29da07e": {
          "model_module": "@jupyter-widgets/controls",
          "model_name": "HBoxModel",
          "state": {
            "_view_name": "HBoxView",
            "_dom_classes": [],
            "_model_name": "HBoxModel",
            "_view_module": "@jupyter-widgets/controls",
            "_model_module_version": "1.5.0",
            "_view_count": null,
            "_view_module_version": "1.5.0",
            "box_style": "",
            "layout": "IPY_MODEL_67e46a72aee24bd1879e141215e69fd3",
            "_model_module": "@jupyter-widgets/controls",
            "children": [
              "IPY_MODEL_0396ee54a2074a71bed73b4d0fff6adf",
              "IPY_MODEL_49b8356c173e4b349986137e6969fcc7"
            ]
          }
        },
        "802e91425c39435ebc6fba30c31a8684": {
          "model_module": "@jupyter-widgets/controls",
          "model_name": "HBoxModel",
          "state": {
            "_view_name": "HBoxView",
            "_dom_classes": [],
            "_model_name": "HBoxModel",
            "_view_module": "@jupyter-widgets/controls",
            "_model_module_version": "1.5.0",
            "_view_count": null,
            "_view_module_version": "1.5.0",
            "box_style": "",
            "layout": "IPY_MODEL_75fbd79c254940438f2fc24dad30289b",
            "_model_module": "@jupyter-widgets/controls",
            "children": [
              "IPY_MODEL_6b4f31550bd144ba8a6be2a3af4e732a",
              "IPY_MODEL_38d0aa2f043645709c5d62e9b12f77f9"
            ]
          }
        },
        "d31feaafe6184e58a52410b3153a3ce2": {
          "model_module": "@jupyter-widgets/controls",
          "model_name": "HBoxModel",
          "state": {
            "_view_name": "HBoxView",
            "_dom_classes": [],
            "_model_name": "HBoxModel",
            "_view_module": "@jupyter-widgets/controls",
            "_model_module_version": "1.5.0",
            "_view_count": null,
            "_view_module_version": "1.5.0",
            "box_style": "",
            "layout": "IPY_MODEL_17ea237c8e8643f29f082534dbf6421e",
            "_model_module": "@jupyter-widgets/controls",
            "children": [
              "IPY_MODEL_7716ae8c45f44b1dba6a97d99e38dc6d",
              "IPY_MODEL_6674ed8bfc824fa889e5abbea8c100b4"
            ]
          }
        },
        "8b656ed4849b499eaac4a69371080078": {
          "model_module": "@jupyter-widgets/controls",
          "model_name": "HBoxModel",
          "state": {
            "_view_name": "HBoxView",
            "_dom_classes": [],
            "_model_name": "HBoxModel",
            "_view_module": "@jupyter-widgets/controls",
            "_model_module_version": "1.5.0",
            "_view_count": null,
            "_view_module_version": "1.5.0",
            "box_style": "",
            "layout": "IPY_MODEL_c1bc89a57a5f4725973d9dc6212e174f",
            "_model_module": "@jupyter-widgets/controls",
            "children": [
              "IPY_MODEL_8394f4a45c924b6f8cb7eeabdfccb296",
              "IPY_MODEL_d41d663d7ce14b859bc75a2103db298d"
            ]
          }
        },
        "2b1e697ce01f4c8f95accac20d8d3ebe": {
          "model_module": "@jupyter-widgets/controls",
          "model_name": "HBoxModel",
          "state": {
            "_view_name": "HBoxView",
            "_dom_classes": [],
            "_model_name": "HBoxModel",
            "_view_module": "@jupyter-widgets/controls",
            "_model_module_version": "1.5.0",
            "_view_count": null,
            "_view_module_version": "1.5.0",
            "box_style": "",
            "layout": "IPY_MODEL_e2e7d1a58e6247ff8070f962e96c56ce",
            "_model_module": "@jupyter-widgets/controls",
            "children": [
              "IPY_MODEL_a19dab06e0db423997cd0c493a398dd1",
              "IPY_MODEL_40ec273754284cec8838cdc129cf14e5"
            ]
          }
        },
        "68808733e87c477aa863bc6ef65c8695": {
          "model_module": "@jupyter-widgets/controls",
          "model_name": "HBoxModel",
          "state": {
            "_view_name": "HBoxView",
            "_dom_classes": [],
            "_model_name": "HBoxModel",
            "_view_module": "@jupyter-widgets/controls",
            "_model_module_version": "1.5.0",
            "_view_count": null,
            "_view_module_version": "1.5.0",
            "box_style": "",
            "layout": "IPY_MODEL_530d6d8bb1a1474e84db30a6b9ffafb9",
            "_model_module": "@jupyter-widgets/controls",
            "children": [
              "IPY_MODEL_055796abc12a4f539a433e3f4fb5b474",
              "IPY_MODEL_15dad5bf04634bb895b110aac5fab958"
            ]
          }
        },
        "b6a105abf3054242a1490b5e3f391487": {
          "model_module": "@jupyter-widgets/controls",
          "model_name": "HBoxModel",
          "state": {
            "_view_name": "HBoxView",
            "_dom_classes": [],
            "_model_name": "HBoxModel",
            "_view_module": "@jupyter-widgets/controls",
            "_model_module_version": "1.5.0",
            "_view_count": null,
            "_view_module_version": "1.5.0",
            "box_style": "",
            "layout": "IPY_MODEL_8738e58e9f61404fb4845c341b29d654",
            "_model_module": "@jupyter-widgets/controls",
            "children": [
              "IPY_MODEL_27e673a4940b44cc9a9708c443c11129",
              "IPY_MODEL_c295733da5b64fd588e30c7defea2192"
            ]
          }
        }
      }
    }
  },
  "cells": [
    {
      "cell_type": "markdown",
      "metadata": {
        "id": "view-in-github",
        "colab_type": "text"
      },
      "source": [
        "<a href=\"https://colab.research.google.com/github/marcovzla/discobert/blob/master/discobert.ipynb\" target=\"_parent\"><img src=\"https://colab.research.google.com/assets/colab-badge.svg\" alt=\"Open In Colab\"/></a>"
      ]
    },
    {
      "cell_type": "code",
      "metadata": {
        "id": "7eCLaFIys0lQ",
        "colab_type": "code",
        "colab": {
          "base_uri": "https://localhost:8080/",
          "height": 479
        },
        "outputId": "e074cf5d-ac97-42ef-bf8a-75e4982ef4af"
      },
      "source": [
        "#!pip install ipython tqdm requests boto3 regex click joblib nltk scikit-learn jupyter\n",
        "!pip install torch torchvision transformers\n",
        "!git clone https://github.com/marcovzla/discobert.git\n",
        "\n"
      ],
      "execution_count": 1,
      "outputs": [
        {
          "output_type": "stream",
          "text": [
            "Requirement already satisfied: torch in /usr/local/lib/python3.6/dist-packages (1.4.0)\n",
            "Requirement already satisfied: torchvision in /usr/local/lib/python3.6/dist-packages (0.5.0)\n",
            "Requirement already satisfied: transformers in /usr/local/lib/python3.6/dist-packages (2.4.1)\n",
            "Requirement already satisfied: numpy in /usr/local/lib/python3.6/dist-packages (from torchvision) (1.17.5)\n",
            "Requirement already satisfied: pillow>=4.1.1 in /usr/local/lib/python3.6/dist-packages (from torchvision) (6.2.2)\n",
            "Requirement already satisfied: six in /usr/local/lib/python3.6/dist-packages (from torchvision) (1.12.0)\n",
            "Requirement already satisfied: boto3 in /usr/local/lib/python3.6/dist-packages (from transformers) (1.11.9)\n",
            "Requirement already satisfied: tqdm>=4.27 in /usr/local/lib/python3.6/dist-packages (from transformers) (4.28.1)\n",
            "Requirement already satisfied: requests in /usr/local/lib/python3.6/dist-packages (from transformers) (2.21.0)\n",
            "Requirement already satisfied: filelock in /usr/local/lib/python3.6/dist-packages (from transformers) (3.0.12)\n",
            "Requirement already satisfied: tokenizers==0.0.11 in /usr/local/lib/python3.6/dist-packages (from transformers) (0.0.11)\n",
            "Requirement already satisfied: sacremoses in /usr/local/lib/python3.6/dist-packages (from transformers) (0.0.38)\n",
            "Requirement already satisfied: regex!=2019.12.17 in /usr/local/lib/python3.6/dist-packages (from transformers) (2019.12.20)\n",
            "Requirement already satisfied: sentencepiece in /usr/local/lib/python3.6/dist-packages (from transformers) (0.1.85)\n",
            "Requirement already satisfied: s3transfer<0.4.0,>=0.3.0 in /usr/local/lib/python3.6/dist-packages (from boto3->transformers) (0.3.2)\n",
            "Requirement already satisfied: botocore<1.15.0,>=1.14.9 in /usr/local/lib/python3.6/dist-packages (from boto3->transformers) (1.14.9)\n",
            "Requirement already satisfied: jmespath<1.0.0,>=0.7.1 in /usr/local/lib/python3.6/dist-packages (from boto3->transformers) (0.9.4)\n",
            "Requirement already satisfied: chardet<3.1.0,>=3.0.2 in /usr/local/lib/python3.6/dist-packages (from requests->transformers) (3.0.4)\n",
            "Requirement already satisfied: idna<2.9,>=2.5 in /usr/local/lib/python3.6/dist-packages (from requests->transformers) (2.8)\n",
            "Requirement already satisfied: certifi>=2017.4.17 in /usr/local/lib/python3.6/dist-packages (from requests->transformers) (2019.11.28)\n",
            "Requirement already satisfied: urllib3<1.25,>=1.21.1 in /usr/local/lib/python3.6/dist-packages (from requests->transformers) (1.24.3)\n",
            "Requirement already satisfied: click in /usr/local/lib/python3.6/dist-packages (from sacremoses->transformers) (7.0)\n",
            "Requirement already satisfied: joblib in /usr/local/lib/python3.6/dist-packages (from sacremoses->transformers) (0.14.1)\n",
            "Requirement already satisfied: python-dateutil<3.0.0,>=2.1 in /usr/local/lib/python3.6/dist-packages (from botocore<1.15.0,>=1.14.9->boto3->transformers) (2.6.1)\n",
            "Requirement already satisfied: docutils<0.16,>=0.10 in /usr/local/lib/python3.6/dist-packages (from botocore<1.15.0,>=1.14.9->boto3->transformers) (0.15.2)\n",
            "fatal: destination path 'discobert' already exists and is not an empty directory.\n"
          ],
          "name": "stdout"
        }
      ]
    },
    {
      "cell_type": "markdown",
      "metadata": {
        "id": "H5RSh6zU0GNY",
        "colab_type": "text"
      },
      "source": [
        "## Data is mounted in GDrive"
      ]
    },
    {
      "cell_type": "code",
      "metadata": {
        "id": "eHulovCOuhlL",
        "colab_type": "code",
        "colab": {}
      },
      "source": [
        "# from google.colab import drive\n",
        "# drive.mount('/content/drive')"
      ],
      "execution_count": 0,
      "outputs": []
    },
    {
      "cell_type": "markdown",
      "metadata": {
        "id": "Ltyj1CIY0MgI",
        "colab_type": "text"
      },
      "source": [
        "## Running the model... from the github dir"
      ]
    },
    {
      "cell_type": "code",
      "metadata": {
        "id": "TnCD2u8Bxg3M",
        "colab_type": "code",
        "outputId": "85ee371e-f887-4738-8c3c-e32d4dbfbb73",
        "colab": {
          "base_uri": "https://localhost:8080/",
          "height": 34
        }
      },
      "source": [
        "cd discobert\n"
      ],
      "execution_count": 1,
      "outputs": [
        {
          "output_type": "stream",
          "text": [
            "/content/discobert\n"
          ],
          "name": "stdout"
        }
      ]
    },
    {
      "cell_type": "markdown",
      "metadata": {
        "id": "UCp9OXT_0S__",
        "colab_type": "text"
      },
      "source": [
        "Pull the repo for latest code"
      ]
    },
    {
      "cell_type": "code",
      "metadata": {
        "id": "NEl6xU8CpyJi",
        "colab_type": "code",
        "outputId": "e47de5ff-a8ad-4307-a14f-4742fbf1280b",
        "colab": {
          "base_uri": "https://localhost:8080/",
          "height": 68
        }
      },
      "source": [
        "!git pull origin master\n",
        "# ls"
      ],
      "execution_count": 2,
      "outputs": [
        {
          "output_type": "stream",
          "text": [
            "From https://github.com/marcovzla/discobert\n",
            " * branch            master     -> FETCH_HEAD\n",
            "Already up to date.\n"
          ],
          "name": "stdout"
        }
      ]
    },
    {
      "cell_type": "markdown",
      "metadata": {
        "id": "qWeSMHcW0dps",
        "colab_type": "text"
      },
      "source": [
        "# Training code"
      ]
    },
    {
      "cell_type": "code",
      "metadata": {
        "id": "X5g8P13daXdJ",
        "colab_type": "code",
        "colab": {}
      },
      "source": [
        "import os\n",
        "import torch\n",
        "from torch.optim import Adam\n",
        "from tqdm.autonotebook import tqdm\n",
        "from model import DiscoBertModel\n",
        "from rst import load_annotations, iter_spans_only\n",
        "\n",
        "DATA=\"../drive/My Drive/discobert/data/\"\n",
        "train_dir = os.path.join(DATA, 'training_subset')\n",
        "# train_dir = os.path.join(DATA, 'validation')\n",
        "val_dir = os.path.join(DATA, 'validation')\n",
        "model_dir = \"../drive/My Drive/discobert/models/colab\"\n",
        "lr = 1e-3\n",
        "num_epochs = 10\n",
        "device = 'cuda'\n",
        "\n",
        "def train(num_epochs, learning_rate, device, train_dir, val_dir, model_dir):\n",
        "    torch.cuda.empty_cache()\n",
        "    discobert = DiscoBertModel()\n",
        "    discobert.set_device(device, init_weights=True)\n",
        "    discobert.to(device)\n",
        "\n",
        "    # setup the optimizer, loss, etc\n",
        "    optimizer = Adam(params=discobert.parameters(), lr=learning_rate)\n",
        "\n",
        "    # for each epoch\n",
        "    for epoch_i in range(num_epochs):\n",
        "        with open(os.path.join(model_dir, \"log.txt\"), 'a') as logfile:\n",
        "            print(f'Beginning epoch {epoch_i}')\n",
        "            print(f'Beginning epoch {epoch_i}', file=logfile)\n",
        "        for annotation in tqdm(list(load_annotations(train_dir))):\n",
        "            discobert.zero_grad()\n",
        "            loss, pred_tree = discobert(annotation.edus, annotation.dis)\n",
        "            loss.backward()\n",
        "            optimizer.step()\n",
        "        with open(os.path.join(model_dir, \"log.txt\"), 'a') as logfile:\n",
        "            print(f'Finished epoch {epoch_i}')\n",
        "            print(f'Finished epoch {epoch_i}', file=logfile)\n",
        "\n",
        "        # save model\n",
        "        epoch_model_dir = os.path.join(model_dir, f'discobert_{epoch_i}')\n",
        "        if not os.path.exists(epoch_model_dir):\n",
        "            os.makedirs(epoch_model_dir)\n",
        "        discobert.save_pretrained(epoch_model_dir)\n",
        "        # evaluate on validation\n",
        "        torch.cuda.empty_cache()\n",
        "        torch.cuda.synchronize()\n",
        "        #gc.collect()\n",
        "        predict(val_dir, discobert)\n",
        "\n",
        "def predict(data_dir, discobert):\n",
        "    # discobert = DiscoBertModel.from_pretrained(model_dir)\n",
        "    # discobert.set_device(device, init_weights=False)\n",
        "    # discobert.to(device)\n",
        "\n",
        "    all_gold_nodes = []\n",
        "    all_pred_nodes = []\n",
        "    for annotation in tqdm(list(load_annotations(data_dir))):\n",
        "        pred_tree = discobert(annotation.edus)[0]\n",
        "        all_gold_nodes.extend(annotation.dis.get_nonterminals())\n",
        "        all_pred_nodes.extend(pred_tree.get_nonterminals())\n",
        "\n",
        "        all_gold_spans = [f'{annotation.docid}_{x}' for x in list(iter_spans_only(all_gold_nodes))]\n",
        "        all_pred_spans = [f'{annotation.docid}_{x}' for x in list(iter_spans_only(all_pred_nodes))]\n",
        "\n",
        "    # print(all_gold_spans[3])\n",
        "    # print(all_pred_spans[3])\n",
        "    p, r, f1 = eval(all_gold_spans, all_pred_spans) # TODO confirm\n",
        "    with open(os.path.join(model_dir, \"log.txt\"), 'a') as logfile:\n",
        "      print(f'P:{p}\\tR:{r}\\tF1:{f1}')\n",
        "      print(f'P:{p}\\tR:{r}\\tF1:{f1}', file=logfile)\n",
        "    \n",
        "\n",
        "def eval(gold, pred):\n",
        "    TP, FP, FN = 0, 0, 0\n",
        "    for g in gold:\n",
        "        if g in pred:\n",
        "            TP += 1\n",
        "        else:\n",
        "            FN += 1\n",
        "\n",
        "    for p in pred:\n",
        "        if p not in gold:\n",
        "            FP += 1\n",
        "\n",
        "    precision = TP / (TP + FP)\n",
        "    recall = TP / (TP + FN)\n",
        "    f1 = 2 * ((precision * recall) / (precision + recall))\n",
        "    return precision, recall, f1\n",
        "\n",
        "# train(num_epochs, lr, device, train_dir, val_dir, model_dir)"
      ],
      "execution_count": 0,
      "outputs": []
    },
    {
      "cell_type": "markdown",
      "metadata": {
        "id": "WlOkhnO-0g1_",
        "colab_type": "text"
      },
      "source": [
        "# Actually run the training"
      ]
    },
    {
      "cell_type": "code",
      "metadata": {
        "id": "zzutAzbUiJQs",
        "colab_type": "code",
        "outputId": "27170694-1f05-4bb1-f3ab-5078c447a8e6",
        "colab": {
          "base_uri": "https://localhost:8080/",
          "height": 867,
          "referenced_widgets": [
            "0bd8f1bad3ce469b9db1b15be6a0a148",
            "bf507b4873324000addeaa4eb6df49df",
            "27ba954b188245d69f9bdacd9f56282e",
            "434186224a8041aba2dc3715ca82b502",
            "4220aef79f07472e9123616e0ed19f4f",
            "e2b1553b94f742b2bb7dc4b606771f83",
            "c14026f9d1a3452285db0d8a13aef87c",
            "d104d1f842194b8da12561ce6a50a8f5",
            "086c52ba0d8f48dd9fab8ba9e7e6e917",
            "6c4bcc4a692b42339dec519596ce70c4",
            "bb9c4f2b61224b5ba45a0fc407c9fdb3",
            "5b92dc2ed7d14b3d912d04655abf55b1",
            "07bf5c2adf224e3fa276f0df1cced9c2",
            "fc927d2dcb0b4082bf9e17b0e29da07e",
            "802e91425c39435ebc6fba30c31a8684",
            "d31feaafe6184e58a52410b3153a3ce2",
            "8b656ed4849b499eaac4a69371080078",
            "2b1e697ce01f4c8f95accac20d8d3ebe",
            "68808733e87c477aa863bc6ef65c8695",
            "b6a105abf3054242a1490b5e3f391487"
          ]
        }
      },
      "source": [
        "train(num_epochs, lr, device, train_dir, val_dir, model_dir)"
      ],
      "execution_count": 6,
      "outputs": [
        {
          "output_type": "stream",
          "text": [
            "Beginning epoch 0\n"
          ],
          "name": "stdout"
        },
        {
          "output_type": "display_data",
          "data": {
            "application/vnd.jupyter.widget-view+json": {
              "model_id": "0bd8f1bad3ce469b9db1b15be6a0a148",
              "version_minor": 0,
              "version_major": 2
            },
            "text/plain": [
              "HBox(children=(IntProgress(value=0, max=292), HTML(value='')))"
            ]
          },
          "metadata": {
            "tags": []
          }
        },
        {
          "output_type": "stream",
          "text": [
            "\n",
            "Finished epoch 0\n"
          ],
          "name": "stdout"
        },
        {
          "output_type": "display_data",
          "data": {
            "application/vnd.jupyter.widget-view+json": {
              "model_id": "bf507b4873324000addeaa4eb6df49df",
              "version_minor": 0,
              "version_major": 2
            },
            "text/plain": [
              "HBox(children=(IntProgress(value=0, max=50), HTML(value='')))"
            ]
          },
          "metadata": {
            "tags": []
          }
        },
        {
          "output_type": "stream",
          "text": [
            "\n",
            "P:0.34905347060777153\tR:0.4258508914100486\tF1:0.38364665084869504\n",
            "Beginning epoch 1\n"
          ],
          "name": "stdout"
        },
        {
          "output_type": "display_data",
          "data": {
            "application/vnd.jupyter.widget-view+json": {
              "model_id": "27ba954b188245d69f9bdacd9f56282e",
              "version_minor": 0,
              "version_major": 2
            },
            "text/plain": [
              "HBox(children=(IntProgress(value=0, max=292), HTML(value='')))"
            ]
          },
          "metadata": {
            "tags": []
          }
        },
        {
          "output_type": "stream",
          "text": [
            "\n",
            "Finished epoch 1\n"
          ],
          "name": "stdout"
        },
        {
          "output_type": "display_data",
          "data": {
            "application/vnd.jupyter.widget-view+json": {
              "model_id": "434186224a8041aba2dc3715ca82b502",
              "version_minor": 0,
              "version_major": 2
            },
            "text/plain": [
              "HBox(children=(IntProgress(value=0, max=50), HTML(value='')))"
            ]
          },
          "metadata": {
            "tags": []
          }
        },
        {
          "output_type": "stream",
          "text": [
            "\n",
            "P:0.22649140546006066\tR:0.09076175040518639\tF1:0.12959213190627714\n",
            "Beginning epoch 2\n"
          ],
          "name": "stdout"
        },
        {
          "output_type": "display_data",
          "data": {
            "application/vnd.jupyter.widget-view+json": {
              "model_id": "4220aef79f07472e9123616e0ed19f4f",
              "version_minor": 0,
              "version_major": 2
            },
            "text/plain": [
              "HBox(children=(IntProgress(value=0, max=292), HTML(value='')))"
            ]
          },
          "metadata": {
            "tags": []
          }
        },
        {
          "output_type": "stream",
          "text": [
            "\n",
            "Finished epoch 2\n"
          ],
          "name": "stdout"
        },
        {
          "output_type": "display_data",
          "data": {
            "application/vnd.jupyter.widget-view+json": {
              "model_id": "e2b1553b94f742b2bb7dc4b606771f83",
              "version_minor": 0,
              "version_major": 2
            },
            "text/plain": [
              "HBox(children=(IntProgress(value=0, max=50), HTML(value='')))"
            ]
          },
          "metadata": {
            "tags": []
          }
        },
        {
          "output_type": "stream",
          "text": [
            "\n",
            "P:0.34905347060777153\tR:0.4258508914100486\tF1:0.38364665084869504\n",
            "Beginning epoch 3\n"
          ],
          "name": "stdout"
        },
        {
          "output_type": "display_data",
          "data": {
            "application/vnd.jupyter.widget-view+json": {
              "model_id": "c14026f9d1a3452285db0d8a13aef87c",
              "version_minor": 0,
              "version_major": 2
            },
            "text/plain": [
              "HBox(children=(IntProgress(value=0, max=292), HTML(value='')))"
            ]
          },
          "metadata": {
            "tags": []
          }
        },
        {
          "output_type": "stream",
          "text": [
            "\n",
            "Finished epoch 3\n"
          ],
          "name": "stdout"
        },
        {
          "output_type": "display_data",
          "data": {
            "application/vnd.jupyter.widget-view+json": {
              "model_id": "d104d1f842194b8da12561ce6a50a8f5",
              "version_minor": 0,
              "version_major": 2
            },
            "text/plain": [
              "HBox(children=(IntProgress(value=0, max=50), HTML(value='')))"
            ]
          },
          "metadata": {
            "tags": []
          }
        },
        {
          "output_type": "stream",
          "text": [
            "\n",
            "P:0.34905347060777153\tR:0.4258508914100486\tF1:0.38364665084869504\n",
            "Beginning epoch 4\n"
          ],
          "name": "stdout"
        },
        {
          "output_type": "display_data",
          "data": {
            "application/vnd.jupyter.widget-view+json": {
              "model_id": "086c52ba0d8f48dd9fab8ba9e7e6e917",
              "version_minor": 0,
              "version_major": 2
            },
            "text/plain": [
              "HBox(children=(IntProgress(value=0, max=292), HTML(value='')))"
            ]
          },
          "metadata": {
            "tags": []
          }
        },
        {
          "output_type": "stream",
          "text": [
            "\n",
            "Finished epoch 4\n"
          ],
          "name": "stdout"
        },
        {
          "output_type": "display_data",
          "data": {
            "application/vnd.jupyter.widget-view+json": {
              "model_id": "6c4bcc4a692b42339dec519596ce70c4",
              "version_minor": 0,
              "version_major": 2
            },
            "text/plain": [
              "HBox(children=(IntProgress(value=0, max=50), HTML(value='')))"
            ]
          },
          "metadata": {
            "tags": []
          }
        },
        {
          "output_type": "stream",
          "text": [
            "\n",
            "P:0.22649140546006066\tR:0.09076175040518639\tF1:0.12959213190627714\n",
            "Beginning epoch 5\n"
          ],
          "name": "stdout"
        },
        {
          "output_type": "display_data",
          "data": {
            "application/vnd.jupyter.widget-view+json": {
              "model_id": "bb9c4f2b61224b5ba45a0fc407c9fdb3",
              "version_minor": 0,
              "version_major": 2
            },
            "text/plain": [
              "HBox(children=(IntProgress(value=0, max=292), HTML(value='')))"
            ]
          },
          "metadata": {
            "tags": []
          }
        },
        {
          "output_type": "stream",
          "text": [
            "\n",
            "Finished epoch 5\n"
          ],
          "name": "stdout"
        },
        {
          "output_type": "display_data",
          "data": {
            "application/vnd.jupyter.widget-view+json": {
              "model_id": "5b92dc2ed7d14b3d912d04655abf55b1",
              "version_minor": 0,
              "version_major": 2
            },
            "text/plain": [
              "HBox(children=(IntProgress(value=0, max=50), HTML(value='')))"
            ]
          },
          "metadata": {
            "tags": []
          }
        },
        {
          "output_type": "stream",
          "text": [
            "\n",
            "P:0.34905347060777153\tR:0.4258508914100486\tF1:0.38364665084869504\n",
            "Beginning epoch 6\n"
          ],
          "name": "stdout"
        },
        {
          "output_type": "display_data",
          "data": {
            "application/vnd.jupyter.widget-view+json": {
              "model_id": "07bf5c2adf224e3fa276f0df1cced9c2",
              "version_minor": 0,
              "version_major": 2
            },
            "text/plain": [
              "HBox(children=(IntProgress(value=0, max=292), HTML(value='')))"
            ]
          },
          "metadata": {
            "tags": []
          }
        },
        {
          "output_type": "stream",
          "text": [
            "\n",
            "Finished epoch 6\n"
          ],
          "name": "stdout"
        },
        {
          "output_type": "display_data",
          "data": {
            "application/vnd.jupyter.widget-view+json": {
              "model_id": "fc927d2dcb0b4082bf9e17b0e29da07e",
              "version_minor": 0,
              "version_major": 2
            },
            "text/plain": [
              "HBox(children=(IntProgress(value=0, max=50), HTML(value='')))"
            ]
          },
          "metadata": {
            "tags": []
          }
        },
        {
          "output_type": "stream",
          "text": [
            "\n",
            "P:0.34905347060777153\tR:0.4258508914100486\tF1:0.38364665084869504\n",
            "Beginning epoch 7\n"
          ],
          "name": "stdout"
        },
        {
          "output_type": "display_data",
          "data": {
            "application/vnd.jupyter.widget-view+json": {
              "model_id": "802e91425c39435ebc6fba30c31a8684",
              "version_minor": 0,
              "version_major": 2
            },
            "text/plain": [
              "HBox(children=(IntProgress(value=0, max=292), HTML(value='')))"
            ]
          },
          "metadata": {
            "tags": []
          }
        },
        {
          "output_type": "stream",
          "text": [
            "\n",
            "Finished epoch 7\n"
          ],
          "name": "stdout"
        },
        {
          "output_type": "display_data",
          "data": {
            "application/vnd.jupyter.widget-view+json": {
              "model_id": "d31feaafe6184e58a52410b3153a3ce2",
              "version_minor": 0,
              "version_major": 2
            },
            "text/plain": [
              "HBox(children=(IntProgress(value=0, max=50), HTML(value='')))"
            ]
          },
          "metadata": {
            "tags": []
          }
        },
        {
          "output_type": "stream",
          "text": [
            "\n",
            "P:0.22649140546006066\tR:0.09076175040518639\tF1:0.12959213190627714\n",
            "Beginning epoch 8\n"
          ],
          "name": "stdout"
        },
        {
          "output_type": "display_data",
          "data": {
            "application/vnd.jupyter.widget-view+json": {
              "model_id": "8b656ed4849b499eaac4a69371080078",
              "version_minor": 0,
              "version_major": 2
            },
            "text/plain": [
              "HBox(children=(IntProgress(value=0, max=292), HTML(value='')))"
            ]
          },
          "metadata": {
            "tags": []
          }
        },
        {
          "output_type": "stream",
          "text": [
            "\n",
            "Finished epoch 8\n"
          ],
          "name": "stdout"
        },
        {
          "output_type": "display_data",
          "data": {
            "application/vnd.jupyter.widget-view+json": {
              "model_id": "2b1e697ce01f4c8f95accac20d8d3ebe",
              "version_minor": 0,
              "version_major": 2
            },
            "text/plain": [
              "HBox(children=(IntProgress(value=0, max=50), HTML(value='')))"
            ]
          },
          "metadata": {
            "tags": []
          }
        },
        {
          "output_type": "stream",
          "text": [
            "\n",
            "P:0.34905347060777153\tR:0.4258508914100486\tF1:0.38364665084869504\n",
            "Beginning epoch 9\n"
          ],
          "name": "stdout"
        },
        {
          "output_type": "display_data",
          "data": {
            "application/vnd.jupyter.widget-view+json": {
              "model_id": "68808733e87c477aa863bc6ef65c8695",
              "version_minor": 0,
              "version_major": 2
            },
            "text/plain": [
              "HBox(children=(IntProgress(value=0, max=292), HTML(value='')))"
            ]
          },
          "metadata": {
            "tags": []
          }
        },
        {
          "output_type": "stream",
          "text": [
            "\n",
            "Finished epoch 9\n"
          ],
          "name": "stdout"
        },
        {
          "output_type": "display_data",
          "data": {
            "application/vnd.jupyter.widget-view+json": {
              "model_id": "b6a105abf3054242a1490b5e3f391487",
              "version_minor": 0,
              "version_major": 2
            },
            "text/plain": [
              "HBox(children=(IntProgress(value=0, max=50), HTML(value='')))"
            ]
          },
          "metadata": {
            "tags": []
          }
        },
        {
          "output_type": "stream",
          "text": [
            "\n",
            "P:0.34905347060777153\tR:0.4258508914100486\tF1:0.38364665084869504\n"
          ],
          "name": "stdout"
        }
      ]
    }
  ]
}